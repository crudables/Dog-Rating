{
 "cells": [
  {
   "cell_type": "code",
   "execution_count": 4,
   "id": "14d63c4b",
   "metadata": {},
   "outputs": [],
   "source": [
    "import pandas as pd"
   ]
  },
  {
   "cell_type": "code",
   "execution_count": 5,
   "id": "9f204001",
   "metadata": {},
   "outputs": [],
   "source": [
    "df_archive = pd.read_csv('twitter-archive-enhanced.csv')"
   ]
  },
  {
   "cell_type": "code",
   "execution_count": 6,
   "id": "c996951a",
   "metadata": {},
   "outputs": [
    {
     "name": "stdout",
     "output_type": "stream",
     "text": [
      "<class 'pandas.core.frame.DataFrame'>\n",
      "RangeIndex: 2356 entries, 0 to 2355\n",
      "Data columns (total 17 columns):\n",
      " #   Column                      Non-Null Count  Dtype  \n",
      "---  ------                      --------------  -----  \n",
      " 0   tweet_id                    2356 non-null   int64  \n",
      " 1   in_reply_to_status_id       78 non-null     float64\n",
      " 2   in_reply_to_user_id         78 non-null     float64\n",
      " 3   timestamp                   2356 non-null   object \n",
      " 4   source                      2356 non-null   object \n",
      " 5   text                        2356 non-null   object \n",
      " 6   retweeted_status_id         181 non-null    float64\n",
      " 7   retweeted_status_user_id    181 non-null    float64\n",
      " 8   retweeted_status_timestamp  181 non-null    object \n",
      " 9   expanded_urls               2297 non-null   object \n",
      " 10  rating_numerator            2356 non-null   int64  \n",
      " 11  rating_denominator          2356 non-null   int64  \n",
      " 12  name                        2356 non-null   object \n",
      " 13  doggo                       2356 non-null   object \n",
      " 14  floofer                     2356 non-null   object \n",
      " 15  pupper                      2356 non-null   object \n",
      " 16  puppo                       2356 non-null   object \n",
      "dtypes: float64(4), int64(3), object(10)\n",
      "memory usage: 313.0+ KB\n"
     ]
    }
   ],
   "source": [
    "df_archive.info()"
   ]
  },
  {
   "cell_type": "markdown",
   "id": "17995cb1",
   "metadata": {},
   "source": [
    "#### Checking distinct values in each column"
   ]
  },
  {
   "cell_type": "code",
   "execution_count": 7,
   "id": "b0b27732",
   "metadata": {},
   "outputs": [
    {
     "data": {
      "text/plain": [
       "892420643555336193    1\n",
       "687102708889812993    1\n",
       "687826841265172480    1\n",
       "687818504314159109    1\n",
       "687807801670897665    1\n",
       "                     ..\n",
       "775085132600442880    1\n",
       "774757898236878852    1\n",
       "774639387460112384    1\n",
       "774314403806253056    1\n",
       "666020888022790149    1\n",
       "Name: tweet_id, Length: 2356, dtype: int64"
      ]
     },
     "execution_count": 7,
     "metadata": {},
     "output_type": "execute_result"
    }
   ],
   "source": [
    "df_archive.tweet_id.value_counts()"
   ]
  },
  {
   "cell_type": "code",
   "execution_count": 8,
   "id": "4fd4cd4c",
   "metadata": {},
   "outputs": [
    {
     "data": {
      "text/plain": [
       "6.671522e+17    2\n",
       "8.862664e+17    1\n",
       "6.920419e+17    1\n",
       "6.827884e+17    1\n",
       "6.842229e+17    1\n",
       "               ..\n",
       "8.116272e+17    1\n",
       "8.131273e+17    1\n",
       "8.211526e+17    1\n",
       "8.233264e+17    1\n",
       "6.670655e+17    1\n",
       "Name: in_reply_to_status_id, Length: 77, dtype: int64"
      ]
     },
     "execution_count": 8,
     "metadata": {},
     "output_type": "execute_result"
    }
   ],
   "source": [
    "df_archive.in_reply_to_status_id.value_counts()"
   ]
  },
  {
   "cell_type": "code",
   "execution_count": 9,
   "id": "c9e77aff",
   "metadata": {},
   "outputs": [
    {
     "data": {
      "text/plain": [
       "None     2326\n",
       "puppo      30\n",
       "Name: puppo, dtype: int64"
      ]
     },
     "execution_count": 9,
     "metadata": {},
     "output_type": "execute_result"
    }
   ],
   "source": [
    "df_archive.puppo.value_counts()"
   ]
  },
  {
   "cell_type": "code",
   "execution_count": 10,
   "id": "1dc826dd",
   "metadata": {},
   "outputs": [
    {
     "data": {
      "text/plain": [
       "None      2099\n",
       "pupper     257\n",
       "Name: pupper, dtype: int64"
      ]
     },
     "execution_count": 10,
     "metadata": {},
     "output_type": "execute_result"
    }
   ],
   "source": [
    "df_archive.pupper.value_counts()"
   ]
  },
  {
   "cell_type": "code",
   "execution_count": 11,
   "id": "fd25b10f",
   "metadata": {},
   "outputs": [
    {
     "data": {
      "text/plain": [
       "<a href=\"http://twitter.com/download/iphone\" rel=\"nofollow\">Twitter for iPhone</a>     2221\n",
       "<a href=\"http://vine.co\" rel=\"nofollow\">Vine - Make a Scene</a>                          91\n",
       "<a href=\"http://twitter.com\" rel=\"nofollow\">Twitter Web Client</a>                       33\n",
       "<a href=\"https://about.twitter.com/products/tweetdeck\" rel=\"nofollow\">TweetDeck</a>      11\n",
       "Name: source, dtype: int64"
      ]
     },
     "execution_count": 11,
     "metadata": {},
     "output_type": "execute_result"
    }
   ],
   "source": [
    "df_archive.source.value_counts()"
   ]
  },
  {
   "cell_type": "code",
   "execution_count": 12,
   "id": "624aad55",
   "metadata": {},
   "outputs": [],
   "source": [
    "df_image = pd.read_csv('image-predictions.tsv',sep='\\t')"
   ]
  },
  {
   "cell_type": "code",
   "execution_count": 13,
   "id": "47a8c830",
   "metadata": {},
   "outputs": [
    {
     "data": {
      "text/html": [
       "<div>\n",
       "<style scoped>\n",
       "    .dataframe tbody tr th:only-of-type {\n",
       "        vertical-align: middle;\n",
       "    }\n",
       "\n",
       "    .dataframe tbody tr th {\n",
       "        vertical-align: top;\n",
       "    }\n",
       "\n",
       "    .dataframe thead th {\n",
       "        text-align: right;\n",
       "    }\n",
       "</style>\n",
       "<table border=\"1\" class=\"dataframe\">\n",
       "  <thead>\n",
       "    <tr style=\"text-align: right;\">\n",
       "      <th></th>\n",
       "      <th>tweet_id</th>\n",
       "      <th>jpg_url</th>\n",
       "      <th>img_num</th>\n",
       "      <th>p1</th>\n",
       "      <th>p1_conf</th>\n",
       "      <th>p1_dog</th>\n",
       "      <th>p2</th>\n",
       "      <th>p2_conf</th>\n",
       "      <th>p2_dog</th>\n",
       "      <th>p3</th>\n",
       "      <th>p3_conf</th>\n",
       "      <th>p3_dog</th>\n",
       "    </tr>\n",
       "  </thead>\n",
       "  <tbody>\n",
       "    <tr>\n",
       "      <th>0</th>\n",
       "      <td>666020888022790149</td>\n",
       "      <td>https://pbs.twimg.com/media/CT4udn0WwAA0aMy.jpg</td>\n",
       "      <td>1</td>\n",
       "      <td>Welsh_springer_spaniel</td>\n",
       "      <td>0.465074</td>\n",
       "      <td>True</td>\n",
       "      <td>collie</td>\n",
       "      <td>0.156665</td>\n",
       "      <td>True</td>\n",
       "      <td>Shetland_sheepdog</td>\n",
       "      <td>0.061428</td>\n",
       "      <td>True</td>\n",
       "    </tr>\n",
       "    <tr>\n",
       "      <th>1</th>\n",
       "      <td>666029285002620928</td>\n",
       "      <td>https://pbs.twimg.com/media/CT42GRgUYAA5iDo.jpg</td>\n",
       "      <td>1</td>\n",
       "      <td>redbone</td>\n",
       "      <td>0.506826</td>\n",
       "      <td>True</td>\n",
       "      <td>miniature_pinscher</td>\n",
       "      <td>0.074192</td>\n",
       "      <td>True</td>\n",
       "      <td>Rhodesian_ridgeback</td>\n",
       "      <td>0.072010</td>\n",
       "      <td>True</td>\n",
       "    </tr>\n",
       "    <tr>\n",
       "      <th>2</th>\n",
       "      <td>666033412701032449</td>\n",
       "      <td>https://pbs.twimg.com/media/CT4521TWwAEvMyu.jpg</td>\n",
       "      <td>1</td>\n",
       "      <td>German_shepherd</td>\n",
       "      <td>0.596461</td>\n",
       "      <td>True</td>\n",
       "      <td>malinois</td>\n",
       "      <td>0.138584</td>\n",
       "      <td>True</td>\n",
       "      <td>bloodhound</td>\n",
       "      <td>0.116197</td>\n",
       "      <td>True</td>\n",
       "    </tr>\n",
       "    <tr>\n",
       "      <th>3</th>\n",
       "      <td>666044226329800704</td>\n",
       "      <td>https://pbs.twimg.com/media/CT5Dr8HUEAA-lEu.jpg</td>\n",
       "      <td>1</td>\n",
       "      <td>Rhodesian_ridgeback</td>\n",
       "      <td>0.408143</td>\n",
       "      <td>True</td>\n",
       "      <td>redbone</td>\n",
       "      <td>0.360687</td>\n",
       "      <td>True</td>\n",
       "      <td>miniature_pinscher</td>\n",
       "      <td>0.222752</td>\n",
       "      <td>True</td>\n",
       "    </tr>\n",
       "    <tr>\n",
       "      <th>4</th>\n",
       "      <td>666049248165822465</td>\n",
       "      <td>https://pbs.twimg.com/media/CT5IQmsXIAAKY4A.jpg</td>\n",
       "      <td>1</td>\n",
       "      <td>miniature_pinscher</td>\n",
       "      <td>0.560311</td>\n",
       "      <td>True</td>\n",
       "      <td>Rottweiler</td>\n",
       "      <td>0.243682</td>\n",
       "      <td>True</td>\n",
       "      <td>Doberman</td>\n",
       "      <td>0.154629</td>\n",
       "      <td>True</td>\n",
       "    </tr>\n",
       "  </tbody>\n",
       "</table>\n",
       "</div>"
      ],
      "text/plain": [
       "             tweet_id                                          jpg_url  \\\n",
       "0  666020888022790149  https://pbs.twimg.com/media/CT4udn0WwAA0aMy.jpg   \n",
       "1  666029285002620928  https://pbs.twimg.com/media/CT42GRgUYAA5iDo.jpg   \n",
       "2  666033412701032449  https://pbs.twimg.com/media/CT4521TWwAEvMyu.jpg   \n",
       "3  666044226329800704  https://pbs.twimg.com/media/CT5Dr8HUEAA-lEu.jpg   \n",
       "4  666049248165822465  https://pbs.twimg.com/media/CT5IQmsXIAAKY4A.jpg   \n",
       "\n",
       "   img_num                      p1   p1_conf  p1_dog                  p2  \\\n",
       "0        1  Welsh_springer_spaniel  0.465074    True              collie   \n",
       "1        1                 redbone  0.506826    True  miniature_pinscher   \n",
       "2        1         German_shepherd  0.596461    True            malinois   \n",
       "3        1     Rhodesian_ridgeback  0.408143    True             redbone   \n",
       "4        1      miniature_pinscher  0.560311    True          Rottweiler   \n",
       "\n",
       "    p2_conf  p2_dog                   p3   p3_conf  p3_dog  \n",
       "0  0.156665    True    Shetland_sheepdog  0.061428    True  \n",
       "1  0.074192    True  Rhodesian_ridgeback  0.072010    True  \n",
       "2  0.138584    True           bloodhound  0.116197    True  \n",
       "3  0.360687    True   miniature_pinscher  0.222752    True  \n",
       "4  0.243682    True             Doberman  0.154629    True  "
      ]
     },
     "execution_count": 13,
     "metadata": {},
     "output_type": "execute_result"
    }
   ],
   "source": [
    "df_image.head()"
   ]
  },
  {
   "cell_type": "code",
   "execution_count": 14,
   "id": "569cf506",
   "metadata": {},
   "outputs": [
    {
     "name": "stdout",
     "output_type": "stream",
     "text": [
      "<class 'pandas.core.frame.DataFrame'>\n",
      "RangeIndex: 2075 entries, 0 to 2074\n",
      "Data columns (total 12 columns):\n",
      " #   Column    Non-Null Count  Dtype  \n",
      "---  ------    --------------  -----  \n",
      " 0   tweet_id  2075 non-null   int64  \n",
      " 1   jpg_url   2075 non-null   object \n",
      " 2   img_num   2075 non-null   int64  \n",
      " 3   p1        2075 non-null   object \n",
      " 4   p1_conf   2075 non-null   float64\n",
      " 5   p1_dog    2075 non-null   bool   \n",
      " 6   p2        2075 non-null   object \n",
      " 7   p2_conf   2075 non-null   float64\n",
      " 8   p2_dog    2075 non-null   bool   \n",
      " 9   p3        2075 non-null   object \n",
      " 10  p3_conf   2075 non-null   float64\n",
      " 11  p3_dog    2075 non-null   bool   \n",
      "dtypes: bool(3), float64(3), int64(2), object(4)\n",
      "memory usage: 152.1+ KB\n"
     ]
    }
   ],
   "source": [
    "df_image.info()"
   ]
  },
  {
   "cell_type": "code",
   "execution_count": 15,
   "id": "d5881552",
   "metadata": {},
   "outputs": [
    {
     "data": {
      "text/plain": [
       "golden_retriever      150\n",
       "Labrador_retriever    100\n",
       "Pembroke               89\n",
       "Chihuahua              83\n",
       "pug                    57\n",
       "                     ... \n",
       "pillow                  1\n",
       "carousel                1\n",
       "bald_eagle              1\n",
       "lorikeet                1\n",
       "orange                  1\n",
       "Name: p1, Length: 378, dtype: int64"
      ]
     },
     "execution_count": 15,
     "metadata": {},
     "output_type": "execute_result"
    }
   ],
   "source": [
    "df_image.p1.value_counts()"
   ]
  },
  {
   "cell_type": "code",
   "execution_count": 16,
   "id": "e3949026",
   "metadata": {},
   "outputs": [
    {
     "data": {
      "text/plain": [
       "count    2075.000000\n",
       "mean        0.594548\n",
       "std         0.271174\n",
       "min         0.044333\n",
       "25%         0.364412\n",
       "50%         0.588230\n",
       "75%         0.843855\n",
       "max         1.000000\n",
       "Name: p1_conf, dtype: float64"
      ]
     },
     "execution_count": 16,
     "metadata": {},
     "output_type": "execute_result"
    }
   ],
   "source": [
    "df_image.p1_conf.describe()"
   ]
  },
  {
   "cell_type": "code",
   "execution_count": 17,
   "id": "99a90fb0",
   "metadata": {},
   "outputs": [
    {
     "data": {
      "text/plain": [
       "count    2.075000e+03\n",
       "mean     1.345886e-01\n",
       "std      1.006657e-01\n",
       "min      1.011300e-08\n",
       "25%      5.388625e-02\n",
       "50%      1.181810e-01\n",
       "75%      1.955655e-01\n",
       "max      4.880140e-01\n",
       "Name: p2_conf, dtype: float64"
      ]
     },
     "execution_count": 17,
     "metadata": {},
     "output_type": "execute_result"
    }
   ],
   "source": [
    "df_image.p2_conf.describe()"
   ]
  },
  {
   "cell_type": "code",
   "execution_count": 18,
   "id": "26e15c81",
   "metadata": {},
   "outputs": [
    {
     "data": {
      "text/plain": [
       "count    2.075000e+03\n",
       "mean     6.032417e-02\n",
       "std      5.090593e-02\n",
       "min      1.740170e-10\n",
       "25%      1.622240e-02\n",
       "50%      4.944380e-02\n",
       "75%      9.180755e-02\n",
       "max      2.734190e-01\n",
       "Name: p3_conf, dtype: float64"
      ]
     },
     "execution_count": 18,
     "metadata": {},
     "output_type": "execute_result"
    }
   ],
   "source": [
    "df_image.p3_conf.describe()"
   ]
  },
  {
   "cell_type": "code",
   "execution_count": 19,
   "id": "cf571340",
   "metadata": {},
   "outputs": [
    {
     "data": {
      "text/plain": [
       "https://pbs.twimg.com/media/CZhn-QAWwAASQan.jpg                                            2\n",
       "https://pbs.twimg.com/media/Cq9guJ5WgAADfpF.jpg                                            2\n",
       "https://pbs.twimg.com/ext_tw_video_thumb/807106774843039744/pu/img/8XZg1xW35Xp2J6JW.jpg    2\n",
       "https://pbs.twimg.com/media/CU1zsMSUAAAS0qW.jpg                                            2\n",
       "https://pbs.twimg.com/media/CsrjryzWgAAZY00.jpg                                            2\n",
       "                                                                                          ..\n",
       "https://pbs.twimg.com/media/CXrmMSpUwAAdeRj.jpg                                            1\n",
       "https://pbs.twimg.com/media/CXrawAhWkAAWSxC.jpg                                            1\n",
       "https://pbs.twimg.com/media/CXrIntsUsAEkv0d.jpg                                            1\n",
       "https://pbs.twimg.com/media/CXqcOHCUQAAugTB.jpg                                            1\n",
       "https://pbs.twimg.com/media/DGKD1-bXoAAIAUK.jpg                                            1\n",
       "Name: jpg_url, Length: 2009, dtype: int64"
      ]
     },
     "execution_count": 19,
     "metadata": {},
     "output_type": "execute_result"
    }
   ],
   "source": [
    "df_image.jpg_url.value_counts()"
   ]
  },
  {
   "cell_type": "code",
   "execution_count": null,
   "id": "afbef71e",
   "metadata": {},
   "outputs": [],
   "source": [
    "api = tweepy.API(auth, wait_on_rate_limit=True)\n",
    "\n",
    "# NOTE TO STUDENT WITH MOBILE VERIFICATION ISSUES:\n",
    "# df_1 is a DataFrame with the twitter_archive_enhanced.csv file. You may have to\n",
    "# change line 17 to match the name of your DataFrame with twitter_archive_enhanced.csv\n",
    "# NOTE TO REVIEWER: this student had mobile verification issues so the following\n",
    "# Twitter API code was sent to this student from a Udacity instructor\n",
    "# Tweet IDs for which to gather additional data via Twitter's API\n",
    "tweet_ids = df_1.tweet_id.values\n",
    "len(tweet_ids)\n",
    "\n",
    "# Query Twitter's API for JSON data for each tweet ID in the Twitter archive\n",
    "count = 0\n",
    "fails_dict = {}\n",
    "start = timer()\n",
    "# Save each tweet's returned JSON as a new line in a .txt file\n",
    "with open('tweet_json.txt', 'w') as outfile:\n",
    "    # This loop will likely take 20-30 minutes to run because of Twitter's rate limit\n",
    "    for tweet_id in tweet_ids:\n",
    "        count += 1\n",
    "        print(str(count) + \": \" + str(tweet_id))\n",
    "        try:\n",
    "            tweet = api.get_status(tweet_id, tweet_mode='extended')\n",
    "            print(\"Success\")\n",
    "            json.dump(tweet._json, outfile)\n",
    "            outfile.write('\\n')\n",
    "        except tweepy.TweepError as e:\n",
    "            print(\"Fail\")\n",
    "            fails_dict[tweet_id] = e\n",
    "            pass\n",
    "end = timer()\n",
    "print(end - start)\n",
    "print(fails_dict)"
   ]
  },
  {
   "cell_type": "code",
   "execution_count": 20,
   "id": "081756fd",
   "metadata": {},
   "outputs": [],
   "source": [
    "df_tweet = pd.read_json('tweet-json.txt',lines=True)"
   ]
  },
  {
   "cell_type": "code",
   "execution_count": 21,
   "id": "173670bf",
   "metadata": {},
   "outputs": [
    {
     "data": {
      "text/html": [
       "<div>\n",
       "<style scoped>\n",
       "    .dataframe tbody tr th:only-of-type {\n",
       "        vertical-align: middle;\n",
       "    }\n",
       "\n",
       "    .dataframe tbody tr th {\n",
       "        vertical-align: top;\n",
       "    }\n",
       "\n",
       "    .dataframe thead th {\n",
       "        text-align: right;\n",
       "    }\n",
       "</style>\n",
       "<table border=\"1\" class=\"dataframe\">\n",
       "  <thead>\n",
       "    <tr style=\"text-align: right;\">\n",
       "      <th></th>\n",
       "      <th>created_at</th>\n",
       "      <th>id</th>\n",
       "      <th>id_str</th>\n",
       "      <th>full_text</th>\n",
       "      <th>truncated</th>\n",
       "      <th>display_text_range</th>\n",
       "      <th>entities</th>\n",
       "      <th>extended_entities</th>\n",
       "      <th>source</th>\n",
       "      <th>in_reply_to_status_id</th>\n",
       "      <th>...</th>\n",
       "      <th>favorite_count</th>\n",
       "      <th>favorited</th>\n",
       "      <th>retweeted</th>\n",
       "      <th>possibly_sensitive</th>\n",
       "      <th>possibly_sensitive_appealable</th>\n",
       "      <th>lang</th>\n",
       "      <th>retweeted_status</th>\n",
       "      <th>quoted_status_id</th>\n",
       "      <th>quoted_status_id_str</th>\n",
       "      <th>quoted_status</th>\n",
       "    </tr>\n",
       "  </thead>\n",
       "  <tbody>\n",
       "    <tr>\n",
       "      <th>0</th>\n",
       "      <td>2017-08-01 16:23:56+00:00</td>\n",
       "      <td>892420643555336193</td>\n",
       "      <td>892420643555336192</td>\n",
       "      <td>This is Phineas. He's a mystical boy. Only eve...</td>\n",
       "      <td>False</td>\n",
       "      <td>[0, 85]</td>\n",
       "      <td>{'hashtags': [], 'symbols': [], 'user_mentions...</td>\n",
       "      <td>{'media': [{'id': 892420639486877696, 'id_str'...</td>\n",
       "      <td>&lt;a href=\"http://twitter.com/download/iphone\" r...</td>\n",
       "      <td>NaN</td>\n",
       "      <td>...</td>\n",
       "      <td>39467</td>\n",
       "      <td>False</td>\n",
       "      <td>False</td>\n",
       "      <td>0.0</td>\n",
       "      <td>0.0</td>\n",
       "      <td>en</td>\n",
       "      <td>NaN</td>\n",
       "      <td>NaN</td>\n",
       "      <td>NaN</td>\n",
       "      <td>NaN</td>\n",
       "    </tr>\n",
       "    <tr>\n",
       "      <th>1</th>\n",
       "      <td>2017-08-01 00:17:27+00:00</td>\n",
       "      <td>892177421306343426</td>\n",
       "      <td>892177421306343424</td>\n",
       "      <td>This is Tilly. She's just checking pup on you....</td>\n",
       "      <td>False</td>\n",
       "      <td>[0, 138]</td>\n",
       "      <td>{'hashtags': [], 'symbols': [], 'user_mentions...</td>\n",
       "      <td>{'media': [{'id': 892177413194625024, 'id_str'...</td>\n",
       "      <td>&lt;a href=\"http://twitter.com/download/iphone\" r...</td>\n",
       "      <td>NaN</td>\n",
       "      <td>...</td>\n",
       "      <td>33819</td>\n",
       "      <td>False</td>\n",
       "      <td>False</td>\n",
       "      <td>0.0</td>\n",
       "      <td>0.0</td>\n",
       "      <td>en</td>\n",
       "      <td>NaN</td>\n",
       "      <td>NaN</td>\n",
       "      <td>NaN</td>\n",
       "      <td>NaN</td>\n",
       "    </tr>\n",
       "    <tr>\n",
       "      <th>2</th>\n",
       "      <td>2017-07-31 00:18:03+00:00</td>\n",
       "      <td>891815181378084864</td>\n",
       "      <td>891815181378084864</td>\n",
       "      <td>This is Archie. He is a rare Norwegian Pouncin...</td>\n",
       "      <td>False</td>\n",
       "      <td>[0, 121]</td>\n",
       "      <td>{'hashtags': [], 'symbols': [], 'user_mentions...</td>\n",
       "      <td>{'media': [{'id': 891815175371796480, 'id_str'...</td>\n",
       "      <td>&lt;a href=\"http://twitter.com/download/iphone\" r...</td>\n",
       "      <td>NaN</td>\n",
       "      <td>...</td>\n",
       "      <td>25461</td>\n",
       "      <td>False</td>\n",
       "      <td>False</td>\n",
       "      <td>0.0</td>\n",
       "      <td>0.0</td>\n",
       "      <td>en</td>\n",
       "      <td>NaN</td>\n",
       "      <td>NaN</td>\n",
       "      <td>NaN</td>\n",
       "      <td>NaN</td>\n",
       "    </tr>\n",
       "  </tbody>\n",
       "</table>\n",
       "<p>3 rows × 31 columns</p>\n",
       "</div>"
      ],
      "text/plain": [
       "                 created_at                  id              id_str  \\\n",
       "0 2017-08-01 16:23:56+00:00  892420643555336193  892420643555336192   \n",
       "1 2017-08-01 00:17:27+00:00  892177421306343426  892177421306343424   \n",
       "2 2017-07-31 00:18:03+00:00  891815181378084864  891815181378084864   \n",
       "\n",
       "                                           full_text  truncated  \\\n",
       "0  This is Phineas. He's a mystical boy. Only eve...      False   \n",
       "1  This is Tilly. She's just checking pup on you....      False   \n",
       "2  This is Archie. He is a rare Norwegian Pouncin...      False   \n",
       "\n",
       "  display_text_range                                           entities  \\\n",
       "0            [0, 85]  {'hashtags': [], 'symbols': [], 'user_mentions...   \n",
       "1           [0, 138]  {'hashtags': [], 'symbols': [], 'user_mentions...   \n",
       "2           [0, 121]  {'hashtags': [], 'symbols': [], 'user_mentions...   \n",
       "\n",
       "                                   extended_entities  \\\n",
       "0  {'media': [{'id': 892420639486877696, 'id_str'...   \n",
       "1  {'media': [{'id': 892177413194625024, 'id_str'...   \n",
       "2  {'media': [{'id': 891815175371796480, 'id_str'...   \n",
       "\n",
       "                                              source  in_reply_to_status_id  \\\n",
       "0  <a href=\"http://twitter.com/download/iphone\" r...                    NaN   \n",
       "1  <a href=\"http://twitter.com/download/iphone\" r...                    NaN   \n",
       "2  <a href=\"http://twitter.com/download/iphone\" r...                    NaN   \n",
       "\n",
       "   ...  favorite_count  favorited  retweeted possibly_sensitive  \\\n",
       "0  ...           39467      False      False                0.0   \n",
       "1  ...           33819      False      False                0.0   \n",
       "2  ...           25461      False      False                0.0   \n",
       "\n",
       "  possibly_sensitive_appealable  lang  retweeted_status quoted_status_id  \\\n",
       "0                           0.0    en               NaN              NaN   \n",
       "1                           0.0    en               NaN              NaN   \n",
       "2                           0.0    en               NaN              NaN   \n",
       "\n",
       "   quoted_status_id_str  quoted_status  \n",
       "0                   NaN            NaN  \n",
       "1                   NaN            NaN  \n",
       "2                   NaN            NaN  \n",
       "\n",
       "[3 rows x 31 columns]"
      ]
     },
     "execution_count": 21,
     "metadata": {},
     "output_type": "execute_result"
    }
   ],
   "source": [
    "df_tweet.head(3)"
   ]
  },
  {
   "cell_type": "code",
   "execution_count": 22,
   "id": "1899cd9d",
   "metadata": {},
   "outputs": [
    {
     "name": "stdout",
     "output_type": "stream",
     "text": [
      "<class 'pandas.core.frame.DataFrame'>\n",
      "RangeIndex: 2354 entries, 0 to 2353\n",
      "Data columns (total 31 columns):\n",
      " #   Column                         Non-Null Count  Dtype              \n",
      "---  ------                         --------------  -----              \n",
      " 0   created_at                     2354 non-null   datetime64[ns, UTC]\n",
      " 1   id                             2354 non-null   int64              \n",
      " 2   id_str                         2354 non-null   int64              \n",
      " 3   full_text                      2354 non-null   object             \n",
      " 4   truncated                      2354 non-null   bool               \n",
      " 5   display_text_range             2354 non-null   object             \n",
      " 6   entities                       2354 non-null   object             \n",
      " 7   extended_entities              2073 non-null   object             \n",
      " 8   source                         2354 non-null   object             \n",
      " 9   in_reply_to_status_id          78 non-null     float64            \n",
      " 10  in_reply_to_status_id_str      78 non-null     float64            \n",
      " 11  in_reply_to_user_id            78 non-null     float64            \n",
      " 12  in_reply_to_user_id_str        78 non-null     float64            \n",
      " 13  in_reply_to_screen_name        78 non-null     object             \n",
      " 14  user                           2354 non-null   object             \n",
      " 15  geo                            0 non-null      float64            \n",
      " 16  coordinates                    0 non-null      float64            \n",
      " 17  place                          1 non-null      object             \n",
      " 18  contributors                   0 non-null      float64            \n",
      " 19  is_quote_status                2354 non-null   bool               \n",
      " 20  retweet_count                  2354 non-null   int64              \n",
      " 21  favorite_count                 2354 non-null   int64              \n",
      " 22  favorited                      2354 non-null   bool               \n",
      " 23  retweeted                      2354 non-null   bool               \n",
      " 24  possibly_sensitive             2211 non-null   float64            \n",
      " 25  possibly_sensitive_appealable  2211 non-null   float64            \n",
      " 26  lang                           2354 non-null   object             \n",
      " 27  retweeted_status               179 non-null    object             \n",
      " 28  quoted_status_id               29 non-null     float64            \n",
      " 29  quoted_status_id_str           29 non-null     float64            \n",
      " 30  quoted_status                  28 non-null     object             \n",
      "dtypes: bool(4), datetime64[ns, UTC](1), float64(11), int64(4), object(11)\n",
      "memory usage: 505.9+ KB\n"
     ]
    }
   ],
   "source": [
    "df_tweet.info()"
   ]
  },
  {
   "cell_type": "markdown",
   "id": "23864b74",
   "metadata": {},
   "source": [
    "### make copies of the dataframes"
   ]
  },
  {
   "cell_type": "code",
   "execution_count": 23,
   "id": "fcc20d81",
   "metadata": {},
   "outputs": [],
   "source": [
    "df_archive2 = df_archive.copy()\n",
    "df_image2 = df_image.copy()\n",
    "df_tweet2 = df_tweet.copy()"
   ]
  },
  {
   "cell_type": "code",
   "execution_count": 24,
   "id": "1b0de9a3",
   "metadata": {},
   "outputs": [
    {
     "name": "stdout",
     "output_type": "stream",
     "text": [
      "<class 'pandas.core.frame.DataFrame'>\n",
      "RangeIndex: 2356 entries, 0 to 2355\n",
      "Data columns (total 17 columns):\n",
      " #   Column                      Non-Null Count  Dtype  \n",
      "---  ------                      --------------  -----  \n",
      " 0   tweet_id                    2356 non-null   int64  \n",
      " 1   in_reply_to_status_id       78 non-null     float64\n",
      " 2   in_reply_to_user_id         78 non-null     float64\n",
      " 3   timestamp                   2356 non-null   object \n",
      " 4   source                      2356 non-null   object \n",
      " 5   text                        2356 non-null   object \n",
      " 6   retweeted_status_id         181 non-null    float64\n",
      " 7   retweeted_status_user_id    181 non-null    float64\n",
      " 8   retweeted_status_timestamp  181 non-null    object \n",
      " 9   expanded_urls               2297 non-null   object \n",
      " 10  rating_numerator            2356 non-null   int64  \n",
      " 11  rating_denominator          2356 non-null   int64  \n",
      " 12  name                        2356 non-null   object \n",
      " 13  doggo                       2356 non-null   object \n",
      " 14  floofer                     2356 non-null   object \n",
      " 15  pupper                      2356 non-null   object \n",
      " 16  puppo                       2356 non-null   object \n",
      "dtypes: float64(4), int64(3), object(10)\n",
      "memory usage: 313.0+ KB\n"
     ]
    }
   ],
   "source": [
    "df_archive2.info()"
   ]
  },
  {
   "cell_type": "markdown",
   "id": "69be6bc6",
   "metadata": {},
   "source": [
    "### Drop columns that have few non null values in them"
   ]
  },
  {
   "cell_type": "code",
   "execution_count": 25,
   "id": "ceb5cd41",
   "metadata": {},
   "outputs": [],
   "source": [
    "df_archive2.drop(['in_reply_to_status_id','in_reply_to_user_id','retweeted_status_id','retweeted_status_user_id','retweeted_status_timestamp'],axis=1,inplace=True)"
   ]
  },
  {
   "cell_type": "code",
   "execution_count": 26,
   "id": "ce53bc66",
   "metadata": {},
   "outputs": [
    {
     "data": {
      "text/plain": [
       "None          745\n",
       "a              55\n",
       "Charlie        12\n",
       "Cooper         11\n",
       "Lucy           11\n",
       "             ... \n",
       "Dex             1\n",
       "Ace             1\n",
       "Tayzie          1\n",
       "Grizzie         1\n",
       "Christoper      1\n",
       "Name: name, Length: 957, dtype: int64"
      ]
     },
     "execution_count": 26,
     "metadata": {},
     "output_type": "execute_result"
    }
   ],
   "source": [
    "df_archive2.name.value_counts()"
   ]
  },
  {
   "cell_type": "code",
   "execution_count": 27,
   "id": "69ccd083",
   "metadata": {},
   "outputs": [
    {
     "data": {
      "text/plain": [
       "None     2259\n",
       "doggo      97\n",
       "Name: doggo, dtype: int64"
      ]
     },
     "execution_count": 27,
     "metadata": {},
     "output_type": "execute_result"
    }
   ],
   "source": [
    "df_archive2.doggo.value_counts()"
   ]
  },
  {
   "cell_type": "code",
   "execution_count": 28,
   "id": "e1114119",
   "metadata": {},
   "outputs": [
    {
     "data": {
      "text/plain": [
       "None       2346\n",
       "floofer      10\n",
       "Name: floofer, dtype: int64"
      ]
     },
     "execution_count": 28,
     "metadata": {},
     "output_type": "execute_result"
    }
   ],
   "source": [
    "df_archive2.floofer.value_counts()"
   ]
  },
  {
   "cell_type": "markdown",
   "id": "9c7cd0ac",
   "metadata": {},
   "source": [
    "### Drop columns that high 'none' values"
   ]
  },
  {
   "cell_type": "code",
   "execution_count": 29,
   "id": "cccaae63",
   "metadata": {},
   "outputs": [],
   "source": [
    "df_archive2.drop(['doggo','floofer','pupper','puppo'],axis=1,inplace=True)"
   ]
  },
  {
   "cell_type": "code",
   "execution_count": 30,
   "id": "20032b60",
   "metadata": {},
   "outputs": [
    {
     "name": "stdout",
     "output_type": "stream",
     "text": [
      "<class 'pandas.core.frame.DataFrame'>\n",
      "RangeIndex: 2356 entries, 0 to 2355\n",
      "Data columns (total 8 columns):\n",
      " #   Column              Non-Null Count  Dtype \n",
      "---  ------              --------------  ----- \n",
      " 0   tweet_id            2356 non-null   int64 \n",
      " 1   timestamp           2356 non-null   object\n",
      " 2   source              2356 non-null   object\n",
      " 3   text                2356 non-null   object\n",
      " 4   expanded_urls       2297 non-null   object\n",
      " 5   rating_numerator    2356 non-null   int64 \n",
      " 6   rating_denominator  2356 non-null   int64 \n",
      " 7   name                2356 non-null   object\n",
      "dtypes: int64(3), object(5)\n",
      "memory usage: 147.4+ KB\n"
     ]
    }
   ],
   "source": [
    "df_archive2.info()"
   ]
  },
  {
   "cell_type": "code",
   "execution_count": 31,
   "id": "56b6786f",
   "metadata": {},
   "outputs": [
    {
     "data": {
      "text/html": [
       "<div>\n",
       "<style scoped>\n",
       "    .dataframe tbody tr th:only-of-type {\n",
       "        vertical-align: middle;\n",
       "    }\n",
       "\n",
       "    .dataframe tbody tr th {\n",
       "        vertical-align: top;\n",
       "    }\n",
       "\n",
       "    .dataframe thead th {\n",
       "        text-align: right;\n",
       "    }\n",
       "</style>\n",
       "<table border=\"1\" class=\"dataframe\">\n",
       "  <thead>\n",
       "    <tr style=\"text-align: right;\">\n",
       "      <th></th>\n",
       "      <th>tweet_id</th>\n",
       "      <th>timestamp</th>\n",
       "      <th>source</th>\n",
       "      <th>text</th>\n",
       "      <th>expanded_urls</th>\n",
       "      <th>rating_numerator</th>\n",
       "      <th>rating_denominator</th>\n",
       "      <th>name</th>\n",
       "    </tr>\n",
       "  </thead>\n",
       "  <tbody>\n",
       "    <tr>\n",
       "      <th>0</th>\n",
       "      <td>892420643555336193</td>\n",
       "      <td>2017-08-01 16:23:56 +0000</td>\n",
       "      <td>&lt;a href=\"http://twitter.com/download/iphone\" r...</td>\n",
       "      <td>This is Phineas. He's a mystical boy. Only eve...</td>\n",
       "      <td>https://twitter.com/dog_rates/status/892420643...</td>\n",
       "      <td>13</td>\n",
       "      <td>10</td>\n",
       "      <td>Phineas</td>\n",
       "    </tr>\n",
       "    <tr>\n",
       "      <th>1</th>\n",
       "      <td>892177421306343426</td>\n",
       "      <td>2017-08-01 00:17:27 +0000</td>\n",
       "      <td>&lt;a href=\"http://twitter.com/download/iphone\" r...</td>\n",
       "      <td>This is Tilly. She's just checking pup on you....</td>\n",
       "      <td>https://twitter.com/dog_rates/status/892177421...</td>\n",
       "      <td>13</td>\n",
       "      <td>10</td>\n",
       "      <td>Tilly</td>\n",
       "    </tr>\n",
       "    <tr>\n",
       "      <th>2</th>\n",
       "      <td>891815181378084864</td>\n",
       "      <td>2017-07-31 00:18:03 +0000</td>\n",
       "      <td>&lt;a href=\"http://twitter.com/download/iphone\" r...</td>\n",
       "      <td>This is Archie. He is a rare Norwegian Pouncin...</td>\n",
       "      <td>https://twitter.com/dog_rates/status/891815181...</td>\n",
       "      <td>12</td>\n",
       "      <td>10</td>\n",
       "      <td>Archie</td>\n",
       "    </tr>\n",
       "    <tr>\n",
       "      <th>3</th>\n",
       "      <td>891689557279858688</td>\n",
       "      <td>2017-07-30 15:58:51 +0000</td>\n",
       "      <td>&lt;a href=\"http://twitter.com/download/iphone\" r...</td>\n",
       "      <td>This is Darla. She commenced a snooze mid meal...</td>\n",
       "      <td>https://twitter.com/dog_rates/status/891689557...</td>\n",
       "      <td>13</td>\n",
       "      <td>10</td>\n",
       "      <td>Darla</td>\n",
       "    </tr>\n",
       "    <tr>\n",
       "      <th>4</th>\n",
       "      <td>891327558926688256</td>\n",
       "      <td>2017-07-29 16:00:24 +0000</td>\n",
       "      <td>&lt;a href=\"http://twitter.com/download/iphone\" r...</td>\n",
       "      <td>This is Franklin. He would like you to stop ca...</td>\n",
       "      <td>https://twitter.com/dog_rates/status/891327558...</td>\n",
       "      <td>12</td>\n",
       "      <td>10</td>\n",
       "      <td>Franklin</td>\n",
       "    </tr>\n",
       "  </tbody>\n",
       "</table>\n",
       "</div>"
      ],
      "text/plain": [
       "             tweet_id                  timestamp  \\\n",
       "0  892420643555336193  2017-08-01 16:23:56 +0000   \n",
       "1  892177421306343426  2017-08-01 00:17:27 +0000   \n",
       "2  891815181378084864  2017-07-31 00:18:03 +0000   \n",
       "3  891689557279858688  2017-07-30 15:58:51 +0000   \n",
       "4  891327558926688256  2017-07-29 16:00:24 +0000   \n",
       "\n",
       "                                              source  \\\n",
       "0  <a href=\"http://twitter.com/download/iphone\" r...   \n",
       "1  <a href=\"http://twitter.com/download/iphone\" r...   \n",
       "2  <a href=\"http://twitter.com/download/iphone\" r...   \n",
       "3  <a href=\"http://twitter.com/download/iphone\" r...   \n",
       "4  <a href=\"http://twitter.com/download/iphone\" r...   \n",
       "\n",
       "                                                text  \\\n",
       "0  This is Phineas. He's a mystical boy. Only eve...   \n",
       "1  This is Tilly. She's just checking pup on you....   \n",
       "2  This is Archie. He is a rare Norwegian Pouncin...   \n",
       "3  This is Darla. She commenced a snooze mid meal...   \n",
       "4  This is Franklin. He would like you to stop ca...   \n",
       "\n",
       "                                       expanded_urls  rating_numerator  \\\n",
       "0  https://twitter.com/dog_rates/status/892420643...                13   \n",
       "1  https://twitter.com/dog_rates/status/892177421...                13   \n",
       "2  https://twitter.com/dog_rates/status/891815181...                12   \n",
       "3  https://twitter.com/dog_rates/status/891689557...                13   \n",
       "4  https://twitter.com/dog_rates/status/891327558...                12   \n",
       "\n",
       "   rating_denominator      name  \n",
       "0                  10   Phineas  \n",
       "1                  10     Tilly  \n",
       "2                  10    Archie  \n",
       "3                  10     Darla  \n",
       "4                  10  Franklin  "
      ]
     },
     "execution_count": 31,
     "metadata": {},
     "output_type": "execute_result"
    }
   ],
   "source": [
    "df_archive2.head()"
   ]
  },
  {
   "cell_type": "code",
   "execution_count": 32,
   "id": "0886d9ff",
   "metadata": {},
   "outputs": [
    {
     "data": {
      "text/plain": [
       "tweet_id               int64\n",
       "timestamp             object\n",
       "source                object\n",
       "text                  object\n",
       "expanded_urls         object\n",
       "rating_numerator       int64\n",
       "rating_denominator     int64\n",
       "name                  object\n",
       "dtype: object"
      ]
     },
     "execution_count": 32,
     "metadata": {},
     "output_type": "execute_result"
    }
   ],
   "source": [
    "df_archive2.dtypes"
   ]
  },
  {
   "cell_type": "markdown",
   "id": "cb82fd44",
   "metadata": {},
   "source": [
    "### Combine the rating columns and drop the rating_denominator and  rating_denominator columns"
   ]
  },
  {
   "cell_type": "code",
   "execution_count": 33,
   "id": "feccd4aa",
   "metadata": {},
   "outputs": [],
   "source": [
    "df_archive2['Rating'] = df_archive2.rating_numerator.astype(str)+'/'+df_archive2.rating_denominator.astype(str)"
   ]
  },
  {
   "cell_type": "code",
   "execution_count": 34,
   "id": "2e9e8826",
   "metadata": {},
   "outputs": [],
   "source": [
    "df_archive2.drop(['rating_numerator','rating_denominator'],axis=1,inplace=True)"
   ]
  },
  {
   "cell_type": "code",
   "execution_count": 35,
   "id": "94e9783c",
   "metadata": {},
   "outputs": [
    {
     "data": {
      "text/html": [
       "<div>\n",
       "<style scoped>\n",
       "    .dataframe tbody tr th:only-of-type {\n",
       "        vertical-align: middle;\n",
       "    }\n",
       "\n",
       "    .dataframe tbody tr th {\n",
       "        vertical-align: top;\n",
       "    }\n",
       "\n",
       "    .dataframe thead th {\n",
       "        text-align: right;\n",
       "    }\n",
       "</style>\n",
       "<table border=\"1\" class=\"dataframe\">\n",
       "  <thead>\n",
       "    <tr style=\"text-align: right;\">\n",
       "      <th></th>\n",
       "      <th>tweet_id</th>\n",
       "      <th>timestamp</th>\n",
       "      <th>source</th>\n",
       "      <th>text</th>\n",
       "      <th>expanded_urls</th>\n",
       "      <th>name</th>\n",
       "      <th>Rating</th>\n",
       "    </tr>\n",
       "  </thead>\n",
       "  <tbody>\n",
       "    <tr>\n",
       "      <th>0</th>\n",
       "      <td>892420643555336193</td>\n",
       "      <td>2017-08-01 16:23:56 +0000</td>\n",
       "      <td>&lt;a href=\"http://twitter.com/download/iphone\" r...</td>\n",
       "      <td>This is Phineas. He's a mystical boy. Only eve...</td>\n",
       "      <td>https://twitter.com/dog_rates/status/892420643...</td>\n",
       "      <td>Phineas</td>\n",
       "      <td>13/10</td>\n",
       "    </tr>\n",
       "    <tr>\n",
       "      <th>1</th>\n",
       "      <td>892177421306343426</td>\n",
       "      <td>2017-08-01 00:17:27 +0000</td>\n",
       "      <td>&lt;a href=\"http://twitter.com/download/iphone\" r...</td>\n",
       "      <td>This is Tilly. She's just checking pup on you....</td>\n",
       "      <td>https://twitter.com/dog_rates/status/892177421...</td>\n",
       "      <td>Tilly</td>\n",
       "      <td>13/10</td>\n",
       "    </tr>\n",
       "    <tr>\n",
       "      <th>2</th>\n",
       "      <td>891815181378084864</td>\n",
       "      <td>2017-07-31 00:18:03 +0000</td>\n",
       "      <td>&lt;a href=\"http://twitter.com/download/iphone\" r...</td>\n",
       "      <td>This is Archie. He is a rare Norwegian Pouncin...</td>\n",
       "      <td>https://twitter.com/dog_rates/status/891815181...</td>\n",
       "      <td>Archie</td>\n",
       "      <td>12/10</td>\n",
       "    </tr>\n",
       "    <tr>\n",
       "      <th>3</th>\n",
       "      <td>891689557279858688</td>\n",
       "      <td>2017-07-30 15:58:51 +0000</td>\n",
       "      <td>&lt;a href=\"http://twitter.com/download/iphone\" r...</td>\n",
       "      <td>This is Darla. She commenced a snooze mid meal...</td>\n",
       "      <td>https://twitter.com/dog_rates/status/891689557...</td>\n",
       "      <td>Darla</td>\n",
       "      <td>13/10</td>\n",
       "    </tr>\n",
       "    <tr>\n",
       "      <th>4</th>\n",
       "      <td>891327558926688256</td>\n",
       "      <td>2017-07-29 16:00:24 +0000</td>\n",
       "      <td>&lt;a href=\"http://twitter.com/download/iphone\" r...</td>\n",
       "      <td>This is Franklin. He would like you to stop ca...</td>\n",
       "      <td>https://twitter.com/dog_rates/status/891327558...</td>\n",
       "      <td>Franklin</td>\n",
       "      <td>12/10</td>\n",
       "    </tr>\n",
       "  </tbody>\n",
       "</table>\n",
       "</div>"
      ],
      "text/plain": [
       "             tweet_id                  timestamp  \\\n",
       "0  892420643555336193  2017-08-01 16:23:56 +0000   \n",
       "1  892177421306343426  2017-08-01 00:17:27 +0000   \n",
       "2  891815181378084864  2017-07-31 00:18:03 +0000   \n",
       "3  891689557279858688  2017-07-30 15:58:51 +0000   \n",
       "4  891327558926688256  2017-07-29 16:00:24 +0000   \n",
       "\n",
       "                                              source  \\\n",
       "0  <a href=\"http://twitter.com/download/iphone\" r...   \n",
       "1  <a href=\"http://twitter.com/download/iphone\" r...   \n",
       "2  <a href=\"http://twitter.com/download/iphone\" r...   \n",
       "3  <a href=\"http://twitter.com/download/iphone\" r...   \n",
       "4  <a href=\"http://twitter.com/download/iphone\" r...   \n",
       "\n",
       "                                                text  \\\n",
       "0  This is Phineas. He's a mystical boy. Only eve...   \n",
       "1  This is Tilly. She's just checking pup on you....   \n",
       "2  This is Archie. He is a rare Norwegian Pouncin...   \n",
       "3  This is Darla. She commenced a snooze mid meal...   \n",
       "4  This is Franklin. He would like you to stop ca...   \n",
       "\n",
       "                                       expanded_urls      name Rating  \n",
       "0  https://twitter.com/dog_rates/status/892420643...   Phineas  13/10  \n",
       "1  https://twitter.com/dog_rates/status/892177421...     Tilly  13/10  \n",
       "2  https://twitter.com/dog_rates/status/891815181...    Archie  12/10  \n",
       "3  https://twitter.com/dog_rates/status/891689557...     Darla  13/10  \n",
       "4  https://twitter.com/dog_rates/status/891327558...  Franklin  12/10  "
      ]
     },
     "execution_count": 35,
     "metadata": {},
     "output_type": "execute_result"
    }
   ],
   "source": [
    "df_archive2.head()"
   ]
  },
  {
   "cell_type": "code",
   "execution_count": 36,
   "id": "150ce87b",
   "metadata": {},
   "outputs": [
    {
     "name": "stdout",
     "output_type": "stream",
     "text": [
      "<class 'pandas.core.frame.DataFrame'>\n",
      "RangeIndex: 2075 entries, 0 to 2074\n",
      "Data columns (total 12 columns):\n",
      " #   Column    Non-Null Count  Dtype  \n",
      "---  ------    --------------  -----  \n",
      " 0   tweet_id  2075 non-null   int64  \n",
      " 1   jpg_url   2075 non-null   object \n",
      " 2   img_num   2075 non-null   int64  \n",
      " 3   p1        2075 non-null   object \n",
      " 4   p1_conf   2075 non-null   float64\n",
      " 5   p1_dog    2075 non-null   bool   \n",
      " 6   p2        2075 non-null   object \n",
      " 7   p2_conf   2075 non-null   float64\n",
      " 8   p2_dog    2075 non-null   bool   \n",
      " 9   p3        2075 non-null   object \n",
      " 10  p3_conf   2075 non-null   float64\n",
      " 11  p3_dog    2075 non-null   bool   \n",
      "dtypes: bool(3), float64(3), int64(2), object(4)\n",
      "memory usage: 152.1+ KB\n"
     ]
    }
   ],
   "source": [
    "df_image2.info()"
   ]
  },
  {
   "cell_type": "code",
   "execution_count": 37,
   "id": "d3578cd0",
   "metadata": {},
   "outputs": [],
   "source": [
    "df_image2.drop(df_image2.index[(df_image2.p1_dog==False) & (df_image2.p2_dog==False) & (df_image2.p3_dog==False)],inplace=True)"
   ]
  },
  {
   "cell_type": "code",
   "execution_count": 38,
   "id": "bcc89f71",
   "metadata": {},
   "outputs": [
    {
     "data": {
      "text/html": [
       "<div>\n",
       "<style scoped>\n",
       "    .dataframe tbody tr th:only-of-type {\n",
       "        vertical-align: middle;\n",
       "    }\n",
       "\n",
       "    .dataframe tbody tr th {\n",
       "        vertical-align: top;\n",
       "    }\n",
       "\n",
       "    .dataframe thead th {\n",
       "        text-align: right;\n",
       "    }\n",
       "</style>\n",
       "<table border=\"1\" class=\"dataframe\">\n",
       "  <thead>\n",
       "    <tr style=\"text-align: right;\">\n",
       "      <th></th>\n",
       "      <th>created_at</th>\n",
       "      <th>id</th>\n",
       "      <th>id_str</th>\n",
       "      <th>full_text</th>\n",
       "      <th>truncated</th>\n",
       "      <th>display_text_range</th>\n",
       "      <th>entities</th>\n",
       "      <th>extended_entities</th>\n",
       "      <th>source</th>\n",
       "      <th>in_reply_to_status_id</th>\n",
       "      <th>...</th>\n",
       "      <th>favorite_count</th>\n",
       "      <th>favorited</th>\n",
       "      <th>retweeted</th>\n",
       "      <th>possibly_sensitive</th>\n",
       "      <th>possibly_sensitive_appealable</th>\n",
       "      <th>lang</th>\n",
       "      <th>retweeted_status</th>\n",
       "      <th>quoted_status_id</th>\n",
       "      <th>quoted_status_id_str</th>\n",
       "      <th>quoted_status</th>\n",
       "    </tr>\n",
       "  </thead>\n",
       "  <tbody>\n",
       "    <tr>\n",
       "      <th>2344</th>\n",
       "      <td>2015-11-16 01:01:59+00:00</td>\n",
       "      <td>666058600524156928</td>\n",
       "      <td>666058600524156928</td>\n",
       "      <td>Here is the Rand Paul of retrievers folks! He'...</td>\n",
       "      <td>False</td>\n",
       "      <td>[0, 135]</td>\n",
       "      <td>{'hashtags': [], 'symbols': [], 'user_mentions...</td>\n",
       "      <td>{'media': [{'id': 666058597072306176, 'id_str'...</td>\n",
       "      <td>&lt;a href=\"http://twitter.com/download/iphone\" r...</td>\n",
       "      <td>NaN</td>\n",
       "      <td>...</td>\n",
       "      <td>115</td>\n",
       "      <td>False</td>\n",
       "      <td>False</td>\n",
       "      <td>0.0</td>\n",
       "      <td>0.0</td>\n",
       "      <td>en</td>\n",
       "      <td>NaN</td>\n",
       "      <td>NaN</td>\n",
       "      <td>NaN</td>\n",
       "      <td>NaN</td>\n",
       "    </tr>\n",
       "    <tr>\n",
       "      <th>2345</th>\n",
       "      <td>2015-11-16 00:55:59+00:00</td>\n",
       "      <td>666057090499244032</td>\n",
       "      <td>666057090499244032</td>\n",
       "      <td>My oh my. This is a rare blond Canadian terrie...</td>\n",
       "      <td>False</td>\n",
       "      <td>[0, 124]</td>\n",
       "      <td>{'hashtags': [], 'symbols': [], 'user_mentions...</td>\n",
       "      <td>{'media': [{'id': 666057085227016192, 'id_str'...</td>\n",
       "      <td>&lt;a href=\"http://twitter.com/download/iphone\" r...</td>\n",
       "      <td>NaN</td>\n",
       "      <td>...</td>\n",
       "      <td>304</td>\n",
       "      <td>False</td>\n",
       "      <td>False</td>\n",
       "      <td>0.0</td>\n",
       "      <td>0.0</td>\n",
       "      <td>en</td>\n",
       "      <td>NaN</td>\n",
       "      <td>NaN</td>\n",
       "      <td>NaN</td>\n",
       "      <td>NaN</td>\n",
       "    </tr>\n",
       "    <tr>\n",
       "      <th>2346</th>\n",
       "      <td>2015-11-16 00:49:46+00:00</td>\n",
       "      <td>666055525042405380</td>\n",
       "      <td>666055525042405376</td>\n",
       "      <td>Here is a Siberian heavily armored polar bear ...</td>\n",
       "      <td>False</td>\n",
       "      <td>[0, 140]</td>\n",
       "      <td>{'hashtags': [], 'symbols': [], 'user_mentions...</td>\n",
       "      <td>{'media': [{'id': 666055517517848576, 'id_str'...</td>\n",
       "      <td>&lt;a href=\"http://twitter.com/download/iphone\" r...</td>\n",
       "      <td>NaN</td>\n",
       "      <td>...</td>\n",
       "      <td>448</td>\n",
       "      <td>False</td>\n",
       "      <td>False</td>\n",
       "      <td>0.0</td>\n",
       "      <td>0.0</td>\n",
       "      <td>en</td>\n",
       "      <td>NaN</td>\n",
       "      <td>NaN</td>\n",
       "      <td>NaN</td>\n",
       "      <td>NaN</td>\n",
       "    </tr>\n",
       "    <tr>\n",
       "      <th>2347</th>\n",
       "      <td>2015-11-16 00:35:11+00:00</td>\n",
       "      <td>666051853826850816</td>\n",
       "      <td>666051853826850816</td>\n",
       "      <td>This is an odd dog. Hard on the outside but lo...</td>\n",
       "      <td>False</td>\n",
       "      <td>[0, 138]</td>\n",
       "      <td>{'hashtags': [], 'symbols': [], 'user_mentions...</td>\n",
       "      <td>{'media': [{'id': 666051848592334848, 'id_str'...</td>\n",
       "      <td>&lt;a href=\"http://twitter.com/download/iphone\" r...</td>\n",
       "      <td>NaN</td>\n",
       "      <td>...</td>\n",
       "      <td>1253</td>\n",
       "      <td>False</td>\n",
       "      <td>False</td>\n",
       "      <td>0.0</td>\n",
       "      <td>0.0</td>\n",
       "      <td>en</td>\n",
       "      <td>NaN</td>\n",
       "      <td>NaN</td>\n",
       "      <td>NaN</td>\n",
       "      <td>NaN</td>\n",
       "    </tr>\n",
       "    <tr>\n",
       "      <th>2348</th>\n",
       "      <td>2015-11-16 00:30:50+00:00</td>\n",
       "      <td>666050758794694657</td>\n",
       "      <td>666050758794694656</td>\n",
       "      <td>This is a truly beautiful English Wilson Staff...</td>\n",
       "      <td>False</td>\n",
       "      <td>[0, 140]</td>\n",
       "      <td>{'hashtags': [], 'symbols': [], 'user_mentions...</td>\n",
       "      <td>{'media': [{'id': 666050754986266625, 'id_str'...</td>\n",
       "      <td>&lt;a href=\"http://twitter.com/download/iphone\" r...</td>\n",
       "      <td>NaN</td>\n",
       "      <td>...</td>\n",
       "      <td>136</td>\n",
       "      <td>False</td>\n",
       "      <td>False</td>\n",
       "      <td>0.0</td>\n",
       "      <td>0.0</td>\n",
       "      <td>en</td>\n",
       "      <td>NaN</td>\n",
       "      <td>NaN</td>\n",
       "      <td>NaN</td>\n",
       "      <td>NaN</td>\n",
       "    </tr>\n",
       "    <tr>\n",
       "      <th>2349</th>\n",
       "      <td>2015-11-16 00:24:50+00:00</td>\n",
       "      <td>666049248165822465</td>\n",
       "      <td>666049248165822464</td>\n",
       "      <td>Here we have a 1949 1st generation vulpix. Enj...</td>\n",
       "      <td>False</td>\n",
       "      <td>[0, 120]</td>\n",
       "      <td>{'hashtags': [], 'symbols': [], 'user_mentions...</td>\n",
       "      <td>{'media': [{'id': 666049244999131136, 'id_str'...</td>\n",
       "      <td>&lt;a href=\"http://twitter.com/download/iphone\" r...</td>\n",
       "      <td>NaN</td>\n",
       "      <td>...</td>\n",
       "      <td>111</td>\n",
       "      <td>False</td>\n",
       "      <td>False</td>\n",
       "      <td>0.0</td>\n",
       "      <td>0.0</td>\n",
       "      <td>en</td>\n",
       "      <td>NaN</td>\n",
       "      <td>NaN</td>\n",
       "      <td>NaN</td>\n",
       "      <td>NaN</td>\n",
       "    </tr>\n",
       "    <tr>\n",
       "      <th>2350</th>\n",
       "      <td>2015-11-16 00:04:52+00:00</td>\n",
       "      <td>666044226329800704</td>\n",
       "      <td>666044226329800704</td>\n",
       "      <td>This is a purebred Piers Morgan. Loves to Netf...</td>\n",
       "      <td>False</td>\n",
       "      <td>[0, 137]</td>\n",
       "      <td>{'hashtags': [], 'symbols': [], 'user_mentions...</td>\n",
       "      <td>{'media': [{'id': 666044217047650304, 'id_str'...</td>\n",
       "      <td>&lt;a href=\"http://twitter.com/download/iphone\" r...</td>\n",
       "      <td>NaN</td>\n",
       "      <td>...</td>\n",
       "      <td>311</td>\n",
       "      <td>False</td>\n",
       "      <td>False</td>\n",
       "      <td>0.0</td>\n",
       "      <td>0.0</td>\n",
       "      <td>en</td>\n",
       "      <td>NaN</td>\n",
       "      <td>NaN</td>\n",
       "      <td>NaN</td>\n",
       "      <td>NaN</td>\n",
       "    </tr>\n",
       "    <tr>\n",
       "      <th>2351</th>\n",
       "      <td>2015-11-15 23:21:54+00:00</td>\n",
       "      <td>666033412701032449</td>\n",
       "      <td>666033412701032448</td>\n",
       "      <td>Here is a very happy pup. Big fan of well-main...</td>\n",
       "      <td>False</td>\n",
       "      <td>[0, 130]</td>\n",
       "      <td>{'hashtags': [], 'symbols': [], 'user_mentions...</td>\n",
       "      <td>{'media': [{'id': 666033409081393153, 'id_str'...</td>\n",
       "      <td>&lt;a href=\"http://twitter.com/download/iphone\" r...</td>\n",
       "      <td>NaN</td>\n",
       "      <td>...</td>\n",
       "      <td>128</td>\n",
       "      <td>False</td>\n",
       "      <td>False</td>\n",
       "      <td>0.0</td>\n",
       "      <td>0.0</td>\n",
       "      <td>en</td>\n",
       "      <td>NaN</td>\n",
       "      <td>NaN</td>\n",
       "      <td>NaN</td>\n",
       "      <td>NaN</td>\n",
       "    </tr>\n",
       "    <tr>\n",
       "      <th>2352</th>\n",
       "      <td>2015-11-15 23:05:30+00:00</td>\n",
       "      <td>666029285002620928</td>\n",
       "      <td>666029285002620928</td>\n",
       "      <td>This is a western brown Mitsubishi terrier. Up...</td>\n",
       "      <td>False</td>\n",
       "      <td>[0, 139]</td>\n",
       "      <td>{'hashtags': [], 'symbols': [], 'user_mentions...</td>\n",
       "      <td>{'media': [{'id': 666029276303482880, 'id_str'...</td>\n",
       "      <td>&lt;a href=\"http://twitter.com/download/iphone\" r...</td>\n",
       "      <td>NaN</td>\n",
       "      <td>...</td>\n",
       "      <td>132</td>\n",
       "      <td>False</td>\n",
       "      <td>False</td>\n",
       "      <td>0.0</td>\n",
       "      <td>0.0</td>\n",
       "      <td>en</td>\n",
       "      <td>NaN</td>\n",
       "      <td>NaN</td>\n",
       "      <td>NaN</td>\n",
       "      <td>NaN</td>\n",
       "    </tr>\n",
       "    <tr>\n",
       "      <th>2353</th>\n",
       "      <td>2015-11-15 22:32:08+00:00</td>\n",
       "      <td>666020888022790149</td>\n",
       "      <td>666020888022790144</td>\n",
       "      <td>Here we have a Japanese Irish Setter. Lost eye...</td>\n",
       "      <td>False</td>\n",
       "      <td>[0, 131]</td>\n",
       "      <td>{'hashtags': [], 'symbols': [], 'user_mentions...</td>\n",
       "      <td>{'media': [{'id': 666020881337073664, 'id_str'...</td>\n",
       "      <td>&lt;a href=\"http://twitter.com/download/iphone\" r...</td>\n",
       "      <td>NaN</td>\n",
       "      <td>...</td>\n",
       "      <td>2535</td>\n",
       "      <td>False</td>\n",
       "      <td>False</td>\n",
       "      <td>0.0</td>\n",
       "      <td>0.0</td>\n",
       "      <td>en</td>\n",
       "      <td>NaN</td>\n",
       "      <td>NaN</td>\n",
       "      <td>NaN</td>\n",
       "      <td>NaN</td>\n",
       "    </tr>\n",
       "  </tbody>\n",
       "</table>\n",
       "<p>10 rows × 31 columns</p>\n",
       "</div>"
      ],
      "text/plain": [
       "                    created_at                  id              id_str  \\\n",
       "2344 2015-11-16 01:01:59+00:00  666058600524156928  666058600524156928   \n",
       "2345 2015-11-16 00:55:59+00:00  666057090499244032  666057090499244032   \n",
       "2346 2015-11-16 00:49:46+00:00  666055525042405380  666055525042405376   \n",
       "2347 2015-11-16 00:35:11+00:00  666051853826850816  666051853826850816   \n",
       "2348 2015-11-16 00:30:50+00:00  666050758794694657  666050758794694656   \n",
       "2349 2015-11-16 00:24:50+00:00  666049248165822465  666049248165822464   \n",
       "2350 2015-11-16 00:04:52+00:00  666044226329800704  666044226329800704   \n",
       "2351 2015-11-15 23:21:54+00:00  666033412701032449  666033412701032448   \n",
       "2352 2015-11-15 23:05:30+00:00  666029285002620928  666029285002620928   \n",
       "2353 2015-11-15 22:32:08+00:00  666020888022790149  666020888022790144   \n",
       "\n",
       "                                              full_text  truncated  \\\n",
       "2344  Here is the Rand Paul of retrievers folks! He'...      False   \n",
       "2345  My oh my. This is a rare blond Canadian terrie...      False   \n",
       "2346  Here is a Siberian heavily armored polar bear ...      False   \n",
       "2347  This is an odd dog. Hard on the outside but lo...      False   \n",
       "2348  This is a truly beautiful English Wilson Staff...      False   \n",
       "2349  Here we have a 1949 1st generation vulpix. Enj...      False   \n",
       "2350  This is a purebred Piers Morgan. Loves to Netf...      False   \n",
       "2351  Here is a very happy pup. Big fan of well-main...      False   \n",
       "2352  This is a western brown Mitsubishi terrier. Up...      False   \n",
       "2353  Here we have a Japanese Irish Setter. Lost eye...      False   \n",
       "\n",
       "     display_text_range                                           entities  \\\n",
       "2344           [0, 135]  {'hashtags': [], 'symbols': [], 'user_mentions...   \n",
       "2345           [0, 124]  {'hashtags': [], 'symbols': [], 'user_mentions...   \n",
       "2346           [0, 140]  {'hashtags': [], 'symbols': [], 'user_mentions...   \n",
       "2347           [0, 138]  {'hashtags': [], 'symbols': [], 'user_mentions...   \n",
       "2348           [0, 140]  {'hashtags': [], 'symbols': [], 'user_mentions...   \n",
       "2349           [0, 120]  {'hashtags': [], 'symbols': [], 'user_mentions...   \n",
       "2350           [0, 137]  {'hashtags': [], 'symbols': [], 'user_mentions...   \n",
       "2351           [0, 130]  {'hashtags': [], 'symbols': [], 'user_mentions...   \n",
       "2352           [0, 139]  {'hashtags': [], 'symbols': [], 'user_mentions...   \n",
       "2353           [0, 131]  {'hashtags': [], 'symbols': [], 'user_mentions...   \n",
       "\n",
       "                                      extended_entities  \\\n",
       "2344  {'media': [{'id': 666058597072306176, 'id_str'...   \n",
       "2345  {'media': [{'id': 666057085227016192, 'id_str'...   \n",
       "2346  {'media': [{'id': 666055517517848576, 'id_str'...   \n",
       "2347  {'media': [{'id': 666051848592334848, 'id_str'...   \n",
       "2348  {'media': [{'id': 666050754986266625, 'id_str'...   \n",
       "2349  {'media': [{'id': 666049244999131136, 'id_str'...   \n",
       "2350  {'media': [{'id': 666044217047650304, 'id_str'...   \n",
       "2351  {'media': [{'id': 666033409081393153, 'id_str'...   \n",
       "2352  {'media': [{'id': 666029276303482880, 'id_str'...   \n",
       "2353  {'media': [{'id': 666020881337073664, 'id_str'...   \n",
       "\n",
       "                                                 source  \\\n",
       "2344  <a href=\"http://twitter.com/download/iphone\" r...   \n",
       "2345  <a href=\"http://twitter.com/download/iphone\" r...   \n",
       "2346  <a href=\"http://twitter.com/download/iphone\" r...   \n",
       "2347  <a href=\"http://twitter.com/download/iphone\" r...   \n",
       "2348  <a href=\"http://twitter.com/download/iphone\" r...   \n",
       "2349  <a href=\"http://twitter.com/download/iphone\" r...   \n",
       "2350  <a href=\"http://twitter.com/download/iphone\" r...   \n",
       "2351  <a href=\"http://twitter.com/download/iphone\" r...   \n",
       "2352  <a href=\"http://twitter.com/download/iphone\" r...   \n",
       "2353  <a href=\"http://twitter.com/download/iphone\" r...   \n",
       "\n",
       "      in_reply_to_status_id  ...  favorite_count  favorited  retweeted  \\\n",
       "2344                    NaN  ...             115      False      False   \n",
       "2345                    NaN  ...             304      False      False   \n",
       "2346                    NaN  ...             448      False      False   \n",
       "2347                    NaN  ...            1253      False      False   \n",
       "2348                    NaN  ...             136      False      False   \n",
       "2349                    NaN  ...             111      False      False   \n",
       "2350                    NaN  ...             311      False      False   \n",
       "2351                    NaN  ...             128      False      False   \n",
       "2352                    NaN  ...             132      False      False   \n",
       "2353                    NaN  ...            2535      False      False   \n",
       "\n",
       "     possibly_sensitive possibly_sensitive_appealable  lang  retweeted_status  \\\n",
       "2344                0.0                           0.0    en               NaN   \n",
       "2345                0.0                           0.0    en               NaN   \n",
       "2346                0.0                           0.0    en               NaN   \n",
       "2347                0.0                           0.0    en               NaN   \n",
       "2348                0.0                           0.0    en               NaN   \n",
       "2349                0.0                           0.0    en               NaN   \n",
       "2350                0.0                           0.0    en               NaN   \n",
       "2351                0.0                           0.0    en               NaN   \n",
       "2352                0.0                           0.0    en               NaN   \n",
       "2353                0.0                           0.0    en               NaN   \n",
       "\n",
       "     quoted_status_id  quoted_status_id_str  quoted_status  \n",
       "2344              NaN                   NaN            NaN  \n",
       "2345              NaN                   NaN            NaN  \n",
       "2346              NaN                   NaN            NaN  \n",
       "2347              NaN                   NaN            NaN  \n",
       "2348              NaN                   NaN            NaN  \n",
       "2349              NaN                   NaN            NaN  \n",
       "2350              NaN                   NaN            NaN  \n",
       "2351              NaN                   NaN            NaN  \n",
       "2352              NaN                   NaN            NaN  \n",
       "2353              NaN                   NaN            NaN  \n",
       "\n",
       "[10 rows x 31 columns]"
      ]
     },
     "execution_count": 38,
     "metadata": {},
     "output_type": "execute_result"
    }
   ],
   "source": [
    "df_tweet2.tail(10)"
   ]
  },
  {
   "cell_type": "code",
   "execution_count": 39,
   "id": "fe358a7b",
   "metadata": {},
   "outputs": [
    {
     "data": {
      "text/plain": [
       "False    2354\n",
       "Name: truncated, dtype: int64"
      ]
     },
     "execution_count": 39,
     "metadata": {},
     "output_type": "execute_result"
    }
   ],
   "source": [
    "df_tweet2.truncated.value_counts()"
   ]
  },
  {
   "cell_type": "markdown",
   "id": "99c1edf4",
   "metadata": {},
   "source": [
    "### Drop the 'truncated' column"
   ]
  },
  {
   "cell_type": "code",
   "execution_count": 40,
   "id": "af7afb0f",
   "metadata": {},
   "outputs": [],
   "source": [
    "df_tweet2.drop(labels=['truncated'],axis=1,inplace=True)\n"
   ]
  },
  {
   "cell_type": "code",
   "execution_count": 41,
   "id": "9219d2b8",
   "metadata": {},
   "outputs": [
    {
     "name": "stdout",
     "output_type": "stream",
     "text": [
      "<class 'pandas.core.frame.DataFrame'>\n",
      "RangeIndex: 2354 entries, 0 to 2353\n",
      "Data columns (total 30 columns):\n",
      " #   Column                         Non-Null Count  Dtype              \n",
      "---  ------                         --------------  -----              \n",
      " 0   created_at                     2354 non-null   datetime64[ns, UTC]\n",
      " 1   id                             2354 non-null   int64              \n",
      " 2   id_str                         2354 non-null   int64              \n",
      " 3   full_text                      2354 non-null   object             \n",
      " 4   display_text_range             2354 non-null   object             \n",
      " 5   entities                       2354 non-null   object             \n",
      " 6   extended_entities              2073 non-null   object             \n",
      " 7   source                         2354 non-null   object             \n",
      " 8   in_reply_to_status_id          78 non-null     float64            \n",
      " 9   in_reply_to_status_id_str      78 non-null     float64            \n",
      " 10  in_reply_to_user_id            78 non-null     float64            \n",
      " 11  in_reply_to_user_id_str        78 non-null     float64            \n",
      " 12  in_reply_to_screen_name        78 non-null     object             \n",
      " 13  user                           2354 non-null   object             \n",
      " 14  geo                            0 non-null      float64            \n",
      " 15  coordinates                    0 non-null      float64            \n",
      " 16  place                          1 non-null      object             \n",
      " 17  contributors                   0 non-null      float64            \n",
      " 18  is_quote_status                2354 non-null   bool               \n",
      " 19  retweet_count                  2354 non-null   int64              \n",
      " 20  favorite_count                 2354 non-null   int64              \n",
      " 21  favorited                      2354 non-null   bool               \n",
      " 22  retweeted                      2354 non-null   bool               \n",
      " 23  possibly_sensitive             2211 non-null   float64            \n",
      " 24  possibly_sensitive_appealable  2211 non-null   float64            \n",
      " 25  lang                           2354 non-null   object             \n",
      " 26  retweeted_status               179 non-null    object             \n",
      " 27  quoted_status_id               29 non-null     float64            \n",
      " 28  quoted_status_id_str           29 non-null     float64            \n",
      " 29  quoted_status                  28 non-null     object             \n",
      "dtypes: bool(3), datetime64[ns, UTC](1), float64(11), int64(4), object(11)\n",
      "memory usage: 503.6+ KB\n"
     ]
    }
   ],
   "source": [
    "df_tweet2.info()"
   ]
  },
  {
   "cell_type": "markdown",
   "id": "7056b4ab",
   "metadata": {},
   "source": [
    "### Drop other columns that has too many missing values"
   ]
  },
  {
   "cell_type": "code",
   "execution_count": 42,
   "id": "a9187bfa",
   "metadata": {},
   "outputs": [],
   "source": [
    "df_tweet2.drop(labels=['retweeted_status','quoted_status_id','quoted_status_id_str','quoted_status','in_reply_to_status_id',\n",
    "                       'in_reply_to_status_id_str','in_reply_to_user_id','in_reply_to_user_id_str','in_reply_to_screen_name'\n",
    "                      ],axis=1,inplace=True)"
   ]
  },
  {
   "cell_type": "code",
   "execution_count": 43,
   "id": "d6ecb99f",
   "metadata": {},
   "outputs": [
    {
     "name": "stdout",
     "output_type": "stream",
     "text": [
      "<class 'pandas.core.frame.DataFrame'>\n",
      "RangeIndex: 2354 entries, 0 to 2353\n",
      "Data columns (total 21 columns):\n",
      " #   Column                         Non-Null Count  Dtype              \n",
      "---  ------                         --------------  -----              \n",
      " 0   created_at                     2354 non-null   datetime64[ns, UTC]\n",
      " 1   id                             2354 non-null   int64              \n",
      " 2   id_str                         2354 non-null   int64              \n",
      " 3   full_text                      2354 non-null   object             \n",
      " 4   display_text_range             2354 non-null   object             \n",
      " 5   entities                       2354 non-null   object             \n",
      " 6   extended_entities              2073 non-null   object             \n",
      " 7   source                         2354 non-null   object             \n",
      " 8   user                           2354 non-null   object             \n",
      " 9   geo                            0 non-null      float64            \n",
      " 10  coordinates                    0 non-null      float64            \n",
      " 11  place                          1 non-null      object             \n",
      " 12  contributors                   0 non-null      float64            \n",
      " 13  is_quote_status                2354 non-null   bool               \n",
      " 14  retweet_count                  2354 non-null   int64              \n",
      " 15  favorite_count                 2354 non-null   int64              \n",
      " 16  favorited                      2354 non-null   bool               \n",
      " 17  retweeted                      2354 non-null   bool               \n",
      " 18  possibly_sensitive             2211 non-null   float64            \n",
      " 19  possibly_sensitive_appealable  2211 non-null   float64            \n",
      " 20  lang                           2354 non-null   object             \n",
      "dtypes: bool(3), datetime64[ns, UTC](1), float64(5), int64(4), object(8)\n",
      "memory usage: 338.1+ KB\n"
     ]
    }
   ],
   "source": [
    "df_tweet2.info()"
   ]
  },
  {
   "cell_type": "code",
   "execution_count": 44,
   "id": "2cde98d2",
   "metadata": {},
   "outputs": [],
   "source": [
    "df_tweet2.rename({'id':'tweet_id'},axis=1,inplace=True)"
   ]
  },
  {
   "cell_type": "markdown",
   "id": "134d9465",
   "metadata": {},
   "source": [
    "### Combine the 3 data frames by their tweet_id"
   ]
  },
  {
   "cell_type": "code",
   "execution_count": 45,
   "id": "52b73afa",
   "metadata": {},
   "outputs": [
    {
     "name": "stdout",
     "output_type": "stream",
     "text": [
      "<class 'pandas.core.frame.DataFrame'>\n",
      "RangeIndex: 2356 entries, 0 to 2355\n",
      "Data columns (total 7 columns):\n",
      " #   Column         Non-Null Count  Dtype \n",
      "---  ------         --------------  ----- \n",
      " 0   tweet_id       2356 non-null   int64 \n",
      " 1   timestamp      2356 non-null   object\n",
      " 2   source         2356 non-null   object\n",
      " 3   text           2356 non-null   object\n",
      " 4   expanded_urls  2297 non-null   object\n",
      " 5   name           2356 non-null   object\n",
      " 6   Rating         2356 non-null   object\n",
      "dtypes: int64(1), object(6)\n",
      "memory usage: 129.0+ KB\n"
     ]
    }
   ],
   "source": [
    "df_archive2.info()"
   ]
  },
  {
   "cell_type": "code",
   "execution_count": 46,
   "id": "28419d8f",
   "metadata": {},
   "outputs": [],
   "source": [
    "df_archive_image = pd.merge(df_archive2,df_image2,how='inner',on='tweet_id')"
   ]
  },
  {
   "cell_type": "code",
   "execution_count": 47,
   "id": "5870805f",
   "metadata": {},
   "outputs": [
    {
     "name": "stdout",
     "output_type": "stream",
     "text": [
      "<class 'pandas.core.frame.DataFrame'>\n",
      "Int64Index: 1751 entries, 0 to 1750\n",
      "Data columns (total 18 columns):\n",
      " #   Column         Non-Null Count  Dtype  \n",
      "---  ------         --------------  -----  \n",
      " 0   tweet_id       1751 non-null   int64  \n",
      " 1   timestamp      1751 non-null   object \n",
      " 2   source         1751 non-null   object \n",
      " 3   text           1751 non-null   object \n",
      " 4   expanded_urls  1751 non-null   object \n",
      " 5   name           1751 non-null   object \n",
      " 6   Rating         1751 non-null   object \n",
      " 7   jpg_url        1751 non-null   object \n",
      " 8   img_num        1751 non-null   int64  \n",
      " 9   p1             1751 non-null   object \n",
      " 10  p1_conf        1751 non-null   float64\n",
      " 11  p1_dog         1751 non-null   bool   \n",
      " 12  p2             1751 non-null   object \n",
      " 13  p2_conf        1751 non-null   float64\n",
      " 14  p2_dog         1751 non-null   bool   \n",
      " 15  p3             1751 non-null   object \n",
      " 16  p3_conf        1751 non-null   float64\n",
      " 17  p3_dog         1751 non-null   bool   \n",
      "dtypes: bool(3), float64(3), int64(2), object(10)\n",
      "memory usage: 224.0+ KB\n"
     ]
    }
   ],
   "source": [
    "df_archive_image.info()"
   ]
  },
  {
   "cell_type": "code",
   "execution_count": 48,
   "id": "3b81ab3b",
   "metadata": {},
   "outputs": [],
   "source": [
    "df_all = pd.merge(df_archive_image,df_tweet2,how='inner',on='tweet_id')"
   ]
  },
  {
   "cell_type": "code",
   "execution_count": 49,
   "id": "3c08ad2c",
   "metadata": {},
   "outputs": [
    {
     "name": "stdout",
     "output_type": "stream",
     "text": [
      "<class 'pandas.core.frame.DataFrame'>\n",
      "Int64Index: 1750 entries, 0 to 1749\n",
      "Data columns (total 38 columns):\n",
      " #   Column                         Non-Null Count  Dtype              \n",
      "---  ------                         --------------  -----              \n",
      " 0   tweet_id                       1750 non-null   int64              \n",
      " 1   timestamp                      1750 non-null   object             \n",
      " 2   source_x                       1750 non-null   object             \n",
      " 3   text                           1750 non-null   object             \n",
      " 4   expanded_urls                  1750 non-null   object             \n",
      " 5   name                           1750 non-null   object             \n",
      " 6   Rating                         1750 non-null   object             \n",
      " 7   jpg_url                        1750 non-null   object             \n",
      " 8   img_num                        1750 non-null   int64              \n",
      " 9   p1                             1750 non-null   object             \n",
      " 10  p1_conf                        1750 non-null   float64            \n",
      " 11  p1_dog                         1750 non-null   bool               \n",
      " 12  p2                             1750 non-null   object             \n",
      " 13  p2_conf                        1750 non-null   float64            \n",
      " 14  p2_dog                         1750 non-null   bool               \n",
      " 15  p3                             1750 non-null   object             \n",
      " 16  p3_conf                        1750 non-null   float64            \n",
      " 17  p3_dog                         1750 non-null   bool               \n",
      " 18  created_at                     1750 non-null   datetime64[ns, UTC]\n",
      " 19  id_str                         1750 non-null   int64              \n",
      " 20  full_text                      1750 non-null   object             \n",
      " 21  display_text_range             1750 non-null   object             \n",
      " 22  entities                       1750 non-null   object             \n",
      " 23  extended_entities              1750 non-null   object             \n",
      " 24  source_y                       1750 non-null   object             \n",
      " 25  user                           1750 non-null   object             \n",
      " 26  geo                            0 non-null      float64            \n",
      " 27  coordinates                    0 non-null      float64            \n",
      " 28  place                          1 non-null      object             \n",
      " 29  contributors                   0 non-null      float64            \n",
      " 30  is_quote_status                1750 non-null   bool               \n",
      " 31  retweet_count                  1750 non-null   int64              \n",
      " 32  favorite_count                 1750 non-null   int64              \n",
      " 33  favorited                      1750 non-null   bool               \n",
      " 34  retweeted                      1750 non-null   bool               \n",
      " 35  possibly_sensitive             1750 non-null   float64            \n",
      " 36  possibly_sensitive_appealable  1750 non-null   float64            \n",
      " 37  lang                           1750 non-null   object             \n",
      "dtypes: bool(6), datetime64[ns, UTC](1), float64(8), int64(5), object(18)\n",
      "memory usage: 461.4+ KB\n"
     ]
    }
   ],
   "source": [
    "df_all.info()"
   ]
  },
  {
   "cell_type": "code",
   "execution_count": 50,
   "id": "2b95196b",
   "metadata": {},
   "outputs": [],
   "source": [
    "df_all.drop(labels=['geo','coordinates','place','contributors',],axis=1,inplace=True)"
   ]
  },
  {
   "cell_type": "code",
   "execution_count": 51,
   "id": "f7fe0ff1",
   "metadata": {},
   "outputs": [
    {
     "name": "stdout",
     "output_type": "stream",
     "text": [
      "<class 'pandas.core.frame.DataFrame'>\n",
      "Int64Index: 1750 entries, 0 to 1749\n",
      "Data columns (total 34 columns):\n",
      " #   Column                         Non-Null Count  Dtype              \n",
      "---  ------                         --------------  -----              \n",
      " 0   tweet_id                       1750 non-null   int64              \n",
      " 1   timestamp                      1750 non-null   object             \n",
      " 2   source_x                       1750 non-null   object             \n",
      " 3   text                           1750 non-null   object             \n",
      " 4   expanded_urls                  1750 non-null   object             \n",
      " 5   name                           1750 non-null   object             \n",
      " 6   Rating                         1750 non-null   object             \n",
      " 7   jpg_url                        1750 non-null   object             \n",
      " 8   img_num                        1750 non-null   int64              \n",
      " 9   p1                             1750 non-null   object             \n",
      " 10  p1_conf                        1750 non-null   float64            \n",
      " 11  p1_dog                         1750 non-null   bool               \n",
      " 12  p2                             1750 non-null   object             \n",
      " 13  p2_conf                        1750 non-null   float64            \n",
      " 14  p2_dog                         1750 non-null   bool               \n",
      " 15  p3                             1750 non-null   object             \n",
      " 16  p3_conf                        1750 non-null   float64            \n",
      " 17  p3_dog                         1750 non-null   bool               \n",
      " 18  created_at                     1750 non-null   datetime64[ns, UTC]\n",
      " 19  id_str                         1750 non-null   int64              \n",
      " 20  full_text                      1750 non-null   object             \n",
      " 21  display_text_range             1750 non-null   object             \n",
      " 22  entities                       1750 non-null   object             \n",
      " 23  extended_entities              1750 non-null   object             \n",
      " 24  source_y                       1750 non-null   object             \n",
      " 25  user                           1750 non-null   object             \n",
      " 26  is_quote_status                1750 non-null   bool               \n",
      " 27  retweet_count                  1750 non-null   int64              \n",
      " 28  favorite_count                 1750 non-null   int64              \n",
      " 29  favorited                      1750 non-null   bool               \n",
      " 30  retweeted                      1750 non-null   bool               \n",
      " 31  possibly_sensitive             1750 non-null   float64            \n",
      " 32  possibly_sensitive_appealable  1750 non-null   float64            \n",
      " 33  lang                           1750 non-null   object             \n",
      "dtypes: bool(6), datetime64[ns, UTC](1), float64(5), int64(5), object(17)\n",
      "memory usage: 406.7+ KB\n"
     ]
    }
   ],
   "source": [
    "df_all.info()"
   ]
  },
  {
   "cell_type": "markdown",
   "id": "7dc6fbe2",
   "metadata": {},
   "source": [
    "### Drop some irrelevant columns"
   ]
  },
  {
   "cell_type": "code",
   "execution_count": 52,
   "id": "ca026fff",
   "metadata": {},
   "outputs": [
    {
     "data": {
      "text/html": [
       "<div>\n",
       "<style scoped>\n",
       "    .dataframe tbody tr th:only-of-type {\n",
       "        vertical-align: middle;\n",
       "    }\n",
       "\n",
       "    .dataframe tbody tr th {\n",
       "        vertical-align: top;\n",
       "    }\n",
       "\n",
       "    .dataframe thead th {\n",
       "        text-align: right;\n",
       "    }\n",
       "</style>\n",
       "<table border=\"1\" class=\"dataframe\">\n",
       "  <thead>\n",
       "    <tr style=\"text-align: right;\">\n",
       "      <th></th>\n",
       "      <th>created_at</th>\n",
       "    </tr>\n",
       "  </thead>\n",
       "  <tbody>\n",
       "    <tr>\n",
       "      <th>0</th>\n",
       "      <td>2017-08-01 00:17:27+00:00</td>\n",
       "    </tr>\n",
       "    <tr>\n",
       "      <th>1</th>\n",
       "      <td>2017-07-31 00:18:03+00:00</td>\n",
       "    </tr>\n",
       "    <tr>\n",
       "      <th>2</th>\n",
       "      <td>2017-07-30 15:58:51+00:00</td>\n",
       "    </tr>\n",
       "    <tr>\n",
       "      <th>3</th>\n",
       "      <td>2017-07-29 16:00:24+00:00</td>\n",
       "    </tr>\n",
       "    <tr>\n",
       "      <th>4</th>\n",
       "      <td>2017-07-29 00:08:17+00:00</td>\n",
       "    </tr>\n",
       "    <tr>\n",
       "      <th>...</th>\n",
       "      <td>...</td>\n",
       "    </tr>\n",
       "    <tr>\n",
       "      <th>1745</th>\n",
       "      <td>2015-11-16 00:24:50+00:00</td>\n",
       "    </tr>\n",
       "    <tr>\n",
       "      <th>1746</th>\n",
       "      <td>2015-11-16 00:04:52+00:00</td>\n",
       "    </tr>\n",
       "    <tr>\n",
       "      <th>1747</th>\n",
       "      <td>2015-11-15 23:21:54+00:00</td>\n",
       "    </tr>\n",
       "    <tr>\n",
       "      <th>1748</th>\n",
       "      <td>2015-11-15 23:05:30+00:00</td>\n",
       "    </tr>\n",
       "    <tr>\n",
       "      <th>1749</th>\n",
       "      <td>2015-11-15 22:32:08+00:00</td>\n",
       "    </tr>\n",
       "  </tbody>\n",
       "</table>\n",
       "<p>1750 rows × 1 columns</p>\n",
       "</div>"
      ],
      "text/plain": [
       "                    created_at\n",
       "0    2017-08-01 00:17:27+00:00\n",
       "1    2017-07-31 00:18:03+00:00\n",
       "2    2017-07-30 15:58:51+00:00\n",
       "3    2017-07-29 16:00:24+00:00\n",
       "4    2017-07-29 00:08:17+00:00\n",
       "...                        ...\n",
       "1745 2015-11-16 00:24:50+00:00\n",
       "1746 2015-11-16 00:04:52+00:00\n",
       "1747 2015-11-15 23:21:54+00:00\n",
       "1748 2015-11-15 23:05:30+00:00\n",
       "1749 2015-11-15 22:32:08+00:00\n",
       "\n",
       "[1750 rows x 1 columns]"
      ]
     },
     "execution_count": 52,
     "metadata": {},
     "output_type": "execute_result"
    }
   ],
   "source": [
    "df_all.loc[:,['created_at']]"
   ]
  },
  {
   "cell_type": "code",
   "execution_count": 53,
   "id": "04f3cfdb",
   "metadata": {},
   "outputs": [],
   "source": [
    "df_all.drop(labels=['possibly_sensitive','possibly_sensitive_appealable','entities','extended_entities','is_quote_status','timestamp','favorited','retweeted']\n",
    "        ,axis=1,inplace=True)"
   ]
  },
  {
   "cell_type": "code",
   "execution_count": 54,
   "id": "d7c3f55a",
   "metadata": {},
   "outputs": [],
   "source": [
    "df_all.drop(labels=['source_y','text','id_str','display_text_range','user'],axis=1,inplace=True)"
   ]
  },
  {
   "cell_type": "code",
   "execution_count": 55,
   "id": "142e3d26",
   "metadata": {},
   "outputs": [
    {
     "name": "stdout",
     "output_type": "stream",
     "text": [
      "<class 'pandas.core.frame.DataFrame'>\n",
      "Int64Index: 1750 entries, 0 to 1749\n",
      "Data columns (total 21 columns):\n",
      " #   Column          Non-Null Count  Dtype              \n",
      "---  ------          --------------  -----              \n",
      " 0   tweet_id        1750 non-null   int64              \n",
      " 1   source_x        1750 non-null   object             \n",
      " 2   expanded_urls   1750 non-null   object             \n",
      " 3   name            1750 non-null   object             \n",
      " 4   Rating          1750 non-null   object             \n",
      " 5   jpg_url         1750 non-null   object             \n",
      " 6   img_num         1750 non-null   int64              \n",
      " 7   p1              1750 non-null   object             \n",
      " 8   p1_conf         1750 non-null   float64            \n",
      " 9   p1_dog          1750 non-null   bool               \n",
      " 10  p2              1750 non-null   object             \n",
      " 11  p2_conf         1750 non-null   float64            \n",
      " 12  p2_dog          1750 non-null   bool               \n",
      " 13  p3              1750 non-null   object             \n",
      " 14  p3_conf         1750 non-null   float64            \n",
      " 15  p3_dog          1750 non-null   bool               \n",
      " 16  created_at      1750 non-null   datetime64[ns, UTC]\n",
      " 17  full_text       1750 non-null   object             \n",
      " 18  retweet_count   1750 non-null   int64              \n",
      " 19  favorite_count  1750 non-null   int64              \n",
      " 20  lang            1750 non-null   object             \n",
      "dtypes: bool(3), datetime64[ns, UTC](1), float64(3), int64(4), object(10)\n",
      "memory usage: 264.9+ KB\n"
     ]
    }
   ],
   "source": [
    "df_all.info()"
   ]
  },
  {
   "cell_type": "code",
   "execution_count": 56,
   "id": "b3b64c10",
   "metadata": {},
   "outputs": [],
   "source": [
    "df_all.to_csv('twitter_archive_master.csv',sep=',',index=False,encoding='utf-8')"
   ]
  },
  {
   "cell_type": "markdown",
   "id": "f4142a6a",
   "metadata": {},
   "source": [
    "### Removing outliers and invalid rating"
   ]
  },
  {
   "cell_type": "code",
   "execution_count": 57,
   "id": "1eb5a718",
   "metadata": {},
   "outputs": [],
   "source": [
    "df_all = df_all[df_all.Rating.apply(lambda x:int(x.split('/')[1]) == 10)]"
   ]
  },
  {
   "cell_type": "code",
   "execution_count": 58,
   "id": "eab548b8",
   "metadata": {},
   "outputs": [],
   "source": [
    "df_all.drop(df_all.index[df_all.Rating.isin(['27/10','26/10','75/10'])],inplace=True)"
   ]
  },
  {
   "cell_type": "code",
   "execution_count": 59,
   "id": "74c956dc",
   "metadata": {},
   "outputs": [
    {
     "data": {
      "text/plain": [
       "12/10    445\n",
       "11/10    370\n",
       "10/10    367\n",
       "13/10    247\n",
       "9/10     132\n",
       "8/10      68\n",
       "7/10      31\n",
       "14/10     26\n",
       "6/10      16\n",
       "5/10      14\n",
       "4/10       6\n",
       "3/10       5\n",
       "2/10       2\n",
       "0/10       1\n",
       "Name: Rating, dtype: int64"
      ]
     },
     "execution_count": 59,
     "metadata": {},
     "output_type": "execute_result"
    }
   ],
   "source": [
    "df_all.Rating.value_counts()"
   ]
  },
  {
   "cell_type": "code",
   "execution_count": 60,
   "id": "17537f59",
   "metadata": {},
   "outputs": [
    {
     "data": {
      "text/html": [
       "<div>\n",
       "<style scoped>\n",
       "    .dataframe tbody tr th:only-of-type {\n",
       "        vertical-align: middle;\n",
       "    }\n",
       "\n",
       "    .dataframe tbody tr th {\n",
       "        vertical-align: top;\n",
       "    }\n",
       "\n",
       "    .dataframe thead th {\n",
       "        text-align: right;\n",
       "    }\n",
       "</style>\n",
       "<table border=\"1\" class=\"dataframe\">\n",
       "  <thead>\n",
       "    <tr style=\"text-align: right;\">\n",
       "      <th></th>\n",
       "      <th>tweet_id</th>\n",
       "      <th>source_x</th>\n",
       "      <th>expanded_urls</th>\n",
       "      <th>name</th>\n",
       "      <th>Rating</th>\n",
       "      <th>jpg_url</th>\n",
       "      <th>img_num</th>\n",
       "      <th>p1</th>\n",
       "      <th>p1_conf</th>\n",
       "      <th>p1_dog</th>\n",
       "      <th>...</th>\n",
       "      <th>p2_conf</th>\n",
       "      <th>p2_dog</th>\n",
       "      <th>p3</th>\n",
       "      <th>p3_conf</th>\n",
       "      <th>p3_dog</th>\n",
       "      <th>created_at</th>\n",
       "      <th>full_text</th>\n",
       "      <th>retweet_count</th>\n",
       "      <th>favorite_count</th>\n",
       "      <th>lang</th>\n",
       "    </tr>\n",
       "  </thead>\n",
       "  <tbody>\n",
       "    <tr>\n",
       "      <th>0</th>\n",
       "      <td>892177421306343426</td>\n",
       "      <td>&lt;a href=\"http://twitter.com/download/iphone\" r...</td>\n",
       "      <td>https://twitter.com/dog_rates/status/892177421...</td>\n",
       "      <td>Tilly</td>\n",
       "      <td>13/10</td>\n",
       "      <td>https://pbs.twimg.com/media/DGGmoV4XsAAUL6n.jpg</td>\n",
       "      <td>1</td>\n",
       "      <td>Chihuahua</td>\n",
       "      <td>0.323581</td>\n",
       "      <td>True</td>\n",
       "      <td>...</td>\n",
       "      <td>0.090647</td>\n",
       "      <td>True</td>\n",
       "      <td>papillon</td>\n",
       "      <td>0.068957</td>\n",
       "      <td>True</td>\n",
       "      <td>2017-08-01 00:17:27+00:00</td>\n",
       "      <td>This is Tilly. She's just checking pup on you....</td>\n",
       "      <td>6514</td>\n",
       "      <td>33819</td>\n",
       "      <td>en</td>\n",
       "    </tr>\n",
       "    <tr>\n",
       "      <th>1</th>\n",
       "      <td>891815181378084864</td>\n",
       "      <td>&lt;a href=\"http://twitter.com/download/iphone\" r...</td>\n",
       "      <td>https://twitter.com/dog_rates/status/891815181...</td>\n",
       "      <td>Archie</td>\n",
       "      <td>12/10</td>\n",
       "      <td>https://pbs.twimg.com/media/DGBdLU1WsAANxJ9.jpg</td>\n",
       "      <td>1</td>\n",
       "      <td>Chihuahua</td>\n",
       "      <td>0.716012</td>\n",
       "      <td>True</td>\n",
       "      <td>...</td>\n",
       "      <td>0.078253</td>\n",
       "      <td>True</td>\n",
       "      <td>kelpie</td>\n",
       "      <td>0.031379</td>\n",
       "      <td>True</td>\n",
       "      <td>2017-07-31 00:18:03+00:00</td>\n",
       "      <td>This is Archie. He is a rare Norwegian Pouncin...</td>\n",
       "      <td>4328</td>\n",
       "      <td>25461</td>\n",
       "      <td>en</td>\n",
       "    </tr>\n",
       "    <tr>\n",
       "      <th>2</th>\n",
       "      <td>891689557279858688</td>\n",
       "      <td>&lt;a href=\"http://twitter.com/download/iphone\" r...</td>\n",
       "      <td>https://twitter.com/dog_rates/status/891689557...</td>\n",
       "      <td>Darla</td>\n",
       "      <td>13/10</td>\n",
       "      <td>https://pbs.twimg.com/media/DF_q7IAWsAEuuN8.jpg</td>\n",
       "      <td>1</td>\n",
       "      <td>paper_towel</td>\n",
       "      <td>0.170278</td>\n",
       "      <td>False</td>\n",
       "      <td>...</td>\n",
       "      <td>0.168086</td>\n",
       "      <td>True</td>\n",
       "      <td>spatula</td>\n",
       "      <td>0.040836</td>\n",
       "      <td>False</td>\n",
       "      <td>2017-07-30 15:58:51+00:00</td>\n",
       "      <td>This is Darla. She commenced a snooze mid meal...</td>\n",
       "      <td>8964</td>\n",
       "      <td>42908</td>\n",
       "      <td>en</td>\n",
       "    </tr>\n",
       "    <tr>\n",
       "      <th>3</th>\n",
       "      <td>891327558926688256</td>\n",
       "      <td>&lt;a href=\"http://twitter.com/download/iphone\" r...</td>\n",
       "      <td>https://twitter.com/dog_rates/status/891327558...</td>\n",
       "      <td>Franklin</td>\n",
       "      <td>12/10</td>\n",
       "      <td>https://pbs.twimg.com/media/DF6hr6BUMAAzZgT.jpg</td>\n",
       "      <td>2</td>\n",
       "      <td>basset</td>\n",
       "      <td>0.555712</td>\n",
       "      <td>True</td>\n",
       "      <td>...</td>\n",
       "      <td>0.225770</td>\n",
       "      <td>True</td>\n",
       "      <td>German_short-haired_pointer</td>\n",
       "      <td>0.175219</td>\n",
       "      <td>True</td>\n",
       "      <td>2017-07-29 16:00:24+00:00</td>\n",
       "      <td>This is Franklin. He would like you to stop ca...</td>\n",
       "      <td>9774</td>\n",
       "      <td>41048</td>\n",
       "      <td>en</td>\n",
       "    </tr>\n",
       "    <tr>\n",
       "      <th>4</th>\n",
       "      <td>891087950875897856</td>\n",
       "      <td>&lt;a href=\"http://twitter.com/download/iphone\" r...</td>\n",
       "      <td>https://twitter.com/dog_rates/status/891087950...</td>\n",
       "      <td>None</td>\n",
       "      <td>13/10</td>\n",
       "      <td>https://pbs.twimg.com/media/DF3HwyEWsAABqE6.jpg</td>\n",
       "      <td>1</td>\n",
       "      <td>Chesapeake_Bay_retriever</td>\n",
       "      <td>0.425595</td>\n",
       "      <td>True</td>\n",
       "      <td>...</td>\n",
       "      <td>0.116317</td>\n",
       "      <td>True</td>\n",
       "      <td>Indian_elephant</td>\n",
       "      <td>0.076902</td>\n",
       "      <td>False</td>\n",
       "      <td>2017-07-29 00:08:17+00:00</td>\n",
       "      <td>Here we have a majestic great white breaching ...</td>\n",
       "      <td>3261</td>\n",
       "      <td>20562</td>\n",
       "      <td>en</td>\n",
       "    </tr>\n",
       "  </tbody>\n",
       "</table>\n",
       "<p>5 rows × 21 columns</p>\n",
       "</div>"
      ],
      "text/plain": [
       "             tweet_id                                           source_x  \\\n",
       "0  892177421306343426  <a href=\"http://twitter.com/download/iphone\" r...   \n",
       "1  891815181378084864  <a href=\"http://twitter.com/download/iphone\" r...   \n",
       "2  891689557279858688  <a href=\"http://twitter.com/download/iphone\" r...   \n",
       "3  891327558926688256  <a href=\"http://twitter.com/download/iphone\" r...   \n",
       "4  891087950875897856  <a href=\"http://twitter.com/download/iphone\" r...   \n",
       "\n",
       "                                       expanded_urls      name Rating  \\\n",
       "0  https://twitter.com/dog_rates/status/892177421...     Tilly  13/10   \n",
       "1  https://twitter.com/dog_rates/status/891815181...    Archie  12/10   \n",
       "2  https://twitter.com/dog_rates/status/891689557...     Darla  13/10   \n",
       "3  https://twitter.com/dog_rates/status/891327558...  Franklin  12/10   \n",
       "4  https://twitter.com/dog_rates/status/891087950...      None  13/10   \n",
       "\n",
       "                                           jpg_url  img_num  \\\n",
       "0  https://pbs.twimg.com/media/DGGmoV4XsAAUL6n.jpg        1   \n",
       "1  https://pbs.twimg.com/media/DGBdLU1WsAANxJ9.jpg        1   \n",
       "2  https://pbs.twimg.com/media/DF_q7IAWsAEuuN8.jpg        1   \n",
       "3  https://pbs.twimg.com/media/DF6hr6BUMAAzZgT.jpg        2   \n",
       "4  https://pbs.twimg.com/media/DF3HwyEWsAABqE6.jpg        1   \n",
       "\n",
       "                         p1   p1_conf  p1_dog  ...   p2_conf  p2_dog  \\\n",
       "0                 Chihuahua  0.323581    True  ...  0.090647    True   \n",
       "1                 Chihuahua  0.716012    True  ...  0.078253    True   \n",
       "2               paper_towel  0.170278   False  ...  0.168086    True   \n",
       "3                    basset  0.555712    True  ...  0.225770    True   \n",
       "4  Chesapeake_Bay_retriever  0.425595    True  ...  0.116317    True   \n",
       "\n",
       "                            p3   p3_conf  p3_dog                created_at  \\\n",
       "0                     papillon  0.068957    True 2017-08-01 00:17:27+00:00   \n",
       "1                       kelpie  0.031379    True 2017-07-31 00:18:03+00:00   \n",
       "2                      spatula  0.040836   False 2017-07-30 15:58:51+00:00   \n",
       "3  German_short-haired_pointer  0.175219    True 2017-07-29 16:00:24+00:00   \n",
       "4              Indian_elephant  0.076902   False 2017-07-29 00:08:17+00:00   \n",
       "\n",
       "                                           full_text retweet_count  \\\n",
       "0  This is Tilly. She's just checking pup on you....          6514   \n",
       "1  This is Archie. He is a rare Norwegian Pouncin...          4328   \n",
       "2  This is Darla. She commenced a snooze mid meal...          8964   \n",
       "3  This is Franklin. He would like you to stop ca...          9774   \n",
       "4  Here we have a majestic great white breaching ...          3261   \n",
       "\n",
       "   favorite_count  lang  \n",
       "0           33819    en  \n",
       "1           25461    en  \n",
       "2           42908    en  \n",
       "3           41048    en  \n",
       "4           20562    en  \n",
       "\n",
       "[5 rows x 21 columns]"
      ]
     },
     "execution_count": 60,
     "metadata": {},
     "output_type": "execute_result"
    }
   ],
   "source": [
    "df_all.head()"
   ]
  },
  {
   "cell_type": "markdown",
   "id": "bcfabdf7",
   "metadata": {},
   "source": [
    "### which source was used to post tweets the most?"
   ]
  },
  {
   "cell_type": "code",
   "execution_count": 61,
   "id": "3d1d8589",
   "metadata": {},
   "outputs": [
    {
     "data": {
      "text/plain": [
       "<a href=\"http://twitter.com/download/iphone\" rel=\"nofollow\">Twitter for iPhone</a>     1698\n",
       "<a href=\"http://twitter.com\" rel=\"nofollow\">Twitter Web Client</a>                       23\n",
       "<a href=\"https://about.twitter.com/products/tweetdeck\" rel=\"nofollow\">TweetDeck</a>       9\n",
       "Name: source_x, dtype: int64"
      ]
     },
     "execution_count": 61,
     "metadata": {},
     "output_type": "execute_result"
    }
   ],
   "source": [
    "df_all.source_x.value_counts()"
   ]
  },
  {
   "cell_type": "code",
   "execution_count": 63,
   "id": "9fbf5d6e",
   "metadata": {},
   "outputs": [],
   "source": [
    "iphone_string='<a href=\"http://twitter.com/download/iphone\" rel=\"nofollow\">Twitter for iPhone</a>'\n",
    "web_client_string ='<a href=\"http://twitter.com\" rel=\"nofollow\">Twitter Web Client</a>'\n",
    "tweet_deck_string = '<a href=\"https://about.twitter.com/products/tweetdeck\" rel=\"nofollow\">TweetDeck</a>'\n",
    "df_all.replace(to_replace={iphone_string:'Iphone',web_client_string:'Web Client',tweet_deck_string:'Tweet Deck'},inplace=True)"
   ]
  },
  {
   "cell_type": "code",
   "execution_count": 66,
   "id": "ad6a930e",
   "metadata": {},
   "outputs": [
    {
     "data": {
      "text/plain": [
       "Iphone        0.981503\n",
       "Web Client    0.013295\n",
       "Tweet Deck    0.005202\n",
       "Name: source_x, dtype: float64"
      ]
     },
     "execution_count": 66,
     "metadata": {},
     "output_type": "execute_result"
    }
   ],
   "source": [
    "df_all.source_x.value_counts(normalize=True)"
   ]
  },
  {
   "cell_type": "code",
   "execution_count": 64,
   "id": "7a4fb0ee",
   "metadata": {},
   "outputs": [
    {
     "data": {
      "text/plain": [
       "<AxesSubplot:title={'center':'Sources of Tweets'}>"
      ]
     },
     "execution_count": 64,
     "metadata": {},
     "output_type": "execute_result"
    },
    {
     "data": {
      "image/png": "[encoded data removed]",
      "text/plain": [
       "<Figure size 432x288 with 1 Axes>"
      ]
     },
     "metadata": {
      "needs_background": "light"
     },
     "output_type": "display_data"
    }
   ],
   "source": [
    "df_all.source_x.value_counts().plot(kind='bar',title='Sources of Tweets')"
   ]
  },
  {
   "cell_type": "markdown",
   "id": "af8b0043",
   "metadata": {},
   "source": [
    "### The most popular tweet"
   ]
  },
  {
   "cell_type": "code",
   "execution_count": 218,
   "id": "d341240e",
   "metadata": {},
   "outputs": [],
   "source": [
    "df_all['Engagements'] = df_all['retweet_count'] + df_all['favorite_count']"
   ]
  },
  {
   "cell_type": "code",
   "execution_count": 224,
   "id": "98198950",
   "metadata": {},
   "outputs": [
    {
     "data": {
      "text/html": [
       "<div>\n",
       "<style scoped>\n",
       "    .dataframe tbody tr th:only-of-type {\n",
       "        vertical-align: middle;\n",
       "    }\n",
       "\n",
       "    .dataframe tbody tr th {\n",
       "        vertical-align: top;\n",
       "    }\n",
       "\n",
       "    .dataframe thead th {\n",
       "        text-align: right;\n",
       "    }\n",
       "</style>\n",
       "<table border=\"1\" class=\"dataframe\">\n",
       "  <thead>\n",
       "    <tr style=\"text-align: right;\">\n",
       "      <th></th>\n",
       "      <th>tweet_id</th>\n",
       "      <th>source_x</th>\n",
       "      <th>expanded_urls</th>\n",
       "      <th>name</th>\n",
       "      <th>Rating</th>\n",
       "      <th>jpg_url</th>\n",
       "      <th>img_num</th>\n",
       "      <th>p1</th>\n",
       "      <th>p1_conf</th>\n",
       "      <th>p1_dog</th>\n",
       "      <th>...</th>\n",
       "      <th>p2_dog</th>\n",
       "      <th>p3</th>\n",
       "      <th>p3_conf</th>\n",
       "      <th>p3_dog</th>\n",
       "      <th>created_at</th>\n",
       "      <th>full_text</th>\n",
       "      <th>retweet_count</th>\n",
       "      <th>favorite_count</th>\n",
       "      <th>lang</th>\n",
       "      <th>Engagements</th>\n",
       "    </tr>\n",
       "  </thead>\n",
       "  <tbody>\n",
       "    <tr>\n",
       "      <th>753</th>\n",
       "      <td>744234799360020481</td>\n",
       "      <td>&lt;a href=\"http://twitter.com/download/iphone\" r...</td>\n",
       "      <td>https://twitter.com/dog_rates/status/744234799...</td>\n",
       "      <td>None</td>\n",
       "      <td>13/10</td>\n",
       "      <td>https://pbs.twimg.com/ext_tw_video_thumb/74423...</td>\n",
       "      <td>1</td>\n",
       "      <td>Labrador_retriever</td>\n",
       "      <td>0.825333</td>\n",
       "      <td>True</td>\n",
       "      <td>...</td>\n",
       "      <td>False</td>\n",
       "      <td>whippet</td>\n",
       "      <td>0.018442</td>\n",
       "      <td>True</td>\n",
       "      <td>2016-06-18 18:26:18+00:00</td>\n",
       "      <td>Here's a doggo realizing you can stand in a po...</td>\n",
       "      <td>79515</td>\n",
       "      <td>131075</td>\n",
       "      <td>en</td>\n",
       "      <td>210590</td>\n",
       "    </tr>\n",
       "    <tr>\n",
       "      <th>290</th>\n",
       "      <td>822872901745569793</td>\n",
       "      <td>&lt;a href=\"http://twitter.com/download/iphone\" r...</td>\n",
       "      <td>https://twitter.com/dog_rates/status/822872901...</td>\n",
       "      <td>None</td>\n",
       "      <td>13/10</td>\n",
       "      <td>https://pbs.twimg.com/media/C2tugXLXgAArJO4.jpg</td>\n",
       "      <td>1</td>\n",
       "      <td>Lakeland_terrier</td>\n",
       "      <td>0.196015</td>\n",
       "      <td>True</td>\n",
       "      <td>...</td>\n",
       "      <td>True</td>\n",
       "      <td>Irish_terrier</td>\n",
       "      <td>0.069126</td>\n",
       "      <td>True</td>\n",
       "      <td>2017-01-21 18:26:02+00:00</td>\n",
       "      <td>Here's a super supportive puppo participating ...</td>\n",
       "      <td>48265</td>\n",
       "      <td>132810</td>\n",
       "      <td>en</td>\n",
       "      <td>181075</td>\n",
       "    </tr>\n",
       "    <tr>\n",
       "      <th>386</th>\n",
       "      <td>807106840509214720</td>\n",
       "      <td>&lt;a href=\"http://twitter.com/download/iphone\" r...</td>\n",
       "      <td>https://twitter.com/dog_rates/status/807106840...</td>\n",
       "      <td>Stephan</td>\n",
       "      <td>13/10</td>\n",
       "      <td>https://pbs.twimg.com/ext_tw_video_thumb/80710...</td>\n",
       "      <td>1</td>\n",
       "      <td>Chihuahua</td>\n",
       "      <td>0.505370</td>\n",
       "      <td>True</td>\n",
       "      <td>...</td>\n",
       "      <td>True</td>\n",
       "      <td>toy_terrier</td>\n",
       "      <td>0.077008</td>\n",
       "      <td>True</td>\n",
       "      <td>2016-12-09 06:17:20+00:00</td>\n",
       "      <td>This is Stephan. He just wants to help. 13/10 ...</td>\n",
       "      <td>56625</td>\n",
       "      <td>107015</td>\n",
       "      <td>en</td>\n",
       "      <td>163640</td>\n",
       "    </tr>\n",
       "    <tr>\n",
       "      <th>54</th>\n",
       "      <td>879415818425184262</td>\n",
       "      <td>&lt;a href=\"http://twitter.com/download/iphone\" r...</td>\n",
       "      <td>https://twitter.com/dog_rates/status/879415818...</td>\n",
       "      <td>Duddles</td>\n",
       "      <td>13/10</td>\n",
       "      <td>https://pbs.twimg.com/ext_tw_video_thumb/87941...</td>\n",
       "      <td>1</td>\n",
       "      <td>English_springer</td>\n",
       "      <td>0.383404</td>\n",
       "      <td>True</td>\n",
       "      <td>...</td>\n",
       "      <td>True</td>\n",
       "      <td>Cardigan</td>\n",
       "      <td>0.110481</td>\n",
       "      <td>True</td>\n",
       "      <td>2017-06-26 19:07:24+00:00</td>\n",
       "      <td>This is Duddles. He did an attempt. 13/10 some...</td>\n",
       "      <td>45849</td>\n",
       "      <td>107956</td>\n",
       "      <td>en</td>\n",
       "      <td>153805</td>\n",
       "    </tr>\n",
       "    <tr>\n",
       "      <th>104</th>\n",
       "      <td>866450705531457537</td>\n",
       "      <td>&lt;a href=\"http://twitter.com/download/iphone\" r...</td>\n",
       "      <td>https://twitter.com/dog_rates/status/866450705...</td>\n",
       "      <td>Jamesy</td>\n",
       "      <td>13/10</td>\n",
       "      <td>https://pbs.twimg.com/media/DAZAUfBXcAAG_Nn.jpg</td>\n",
       "      <td>2</td>\n",
       "      <td>French_bulldog</td>\n",
       "      <td>0.905334</td>\n",
       "      <td>True</td>\n",
       "      <td>...</td>\n",
       "      <td>True</td>\n",
       "      <td>pug</td>\n",
       "      <td>0.001771</td>\n",
       "      <td>True</td>\n",
       "      <td>2017-05-22 00:28:40+00:00</td>\n",
       "      <td>This is Jamesy. He gives a kiss to every other...</td>\n",
       "      <td>32883</td>\n",
       "      <td>106827</td>\n",
       "      <td>en</td>\n",
       "      <td>139710</td>\n",
       "    </tr>\n",
       "    <tr>\n",
       "      <th>...</th>\n",
       "      <td>...</td>\n",
       "      <td>...</td>\n",
       "      <td>...</td>\n",
       "      <td>...</td>\n",
       "      <td>...</td>\n",
       "      <td>...</td>\n",
       "      <td>...</td>\n",
       "      <td>...</td>\n",
       "      <td>...</td>\n",
       "      <td>...</td>\n",
       "      <td>...</td>\n",
       "      <td>...</td>\n",
       "      <td>...</td>\n",
       "      <td>...</td>\n",
       "      <td>...</td>\n",
       "      <td>...</td>\n",
       "      <td>...</td>\n",
       "      <td>...</td>\n",
       "      <td>...</td>\n",
       "      <td>...</td>\n",
       "      <td>...</td>\n",
       "    </tr>\n",
       "    <tr>\n",
       "      <th>101</th>\n",
       "      <td>867072653475098625</td>\n",
       "      <td>&lt;a href=\"http://twitter.com/download/iphone\" r...</td>\n",
       "      <td>https://twitter.com/rachaeleasler/status/86501...</td>\n",
       "      <td>None</td>\n",
       "      <td>13/10</td>\n",
       "      <td>https://pbs.twimg.com/media/DAElHfmUMAEH9lB.jpg</td>\n",
       "      <td>1</td>\n",
       "      <td>Blenheim_spaniel</td>\n",
       "      <td>0.352946</td>\n",
       "      <td>True</td>\n",
       "      <td>...</td>\n",
       "      <td>True</td>\n",
       "      <td>Pekinese</td>\n",
       "      <td>0.112952</td>\n",
       "      <td>True</td>\n",
       "      <td>2017-05-23 17:40:04+00:00</td>\n",
       "      <td>RT @rachaeleasler: these @dog_rates hats are 1...</td>\n",
       "      <td>135</td>\n",
       "      <td>0</td>\n",
       "      <td>en</td>\n",
       "      <td>135</td>\n",
       "    </tr>\n",
       "    <tr>\n",
       "      <th>1719</th>\n",
       "      <td>666447344410484738</td>\n",
       "      <td>&lt;a href=\"http://twitter.com/download/iphone\" r...</td>\n",
       "      <td>https://twitter.com/dog_rates/status/666447344...</td>\n",
       "      <td>Scout</td>\n",
       "      <td>9/10</td>\n",
       "      <td>https://pbs.twimg.com/media/CT-yU5QWwAEjLX5.jpg</td>\n",
       "      <td>1</td>\n",
       "      <td>curly-coated_retriever</td>\n",
       "      <td>0.322084</td>\n",
       "      <td>True</td>\n",
       "      <td>...</td>\n",
       "      <td>True</td>\n",
       "      <td>Labrador_retriever</td>\n",
       "      <td>0.166331</td>\n",
       "      <td>True</td>\n",
       "      <td>2015-11-17 02:46:43+00:00</td>\n",
       "      <td>This is Scout. She is a black Downton Abbey. I...</td>\n",
       "      <td>23</td>\n",
       "      <td>107</td>\n",
       "      <td>en</td>\n",
       "      <td>130</td>\n",
       "    </tr>\n",
       "    <tr>\n",
       "      <th>1734</th>\n",
       "      <td>666102155909144576</td>\n",
       "      <td>&lt;a href=\"http://twitter.com/download/iphone\" r...</td>\n",
       "      <td>https://twitter.com/dog_rates/status/666102155...</td>\n",
       "      <td>None</td>\n",
       "      <td>11/10</td>\n",
       "      <td>https://pbs.twimg.com/media/CT54YGiWUAEZnoK.jpg</td>\n",
       "      <td>1</td>\n",
       "      <td>English_setter</td>\n",
       "      <td>0.298617</td>\n",
       "      <td>True</td>\n",
       "      <td>...</td>\n",
       "      <td>True</td>\n",
       "      <td>borzoi</td>\n",
       "      <td>0.133649</td>\n",
       "      <td>True</td>\n",
       "      <td>2015-11-16 03:55:04+00:00</td>\n",
       "      <td>Oh my. Here you are seeing an Adobe Setter giv...</td>\n",
       "      <td>16</td>\n",
       "      <td>81</td>\n",
       "      <td>en</td>\n",
       "      <td>97</td>\n",
       "    </tr>\n",
       "    <tr>\n",
       "      <th>61</th>\n",
       "      <td>877611172832227328</td>\n",
       "      <td>&lt;a href=\"http://twitter.com/download/iphone\" r...</td>\n",
       "      <td>https://twitter.com/rachel2195/status/87685077...</td>\n",
       "      <td>None</td>\n",
       "      <td>14/10</td>\n",
       "      <td>https://pbs.twimg.com/media/DCszHgmW0AAmIpT.jpg</td>\n",
       "      <td>1</td>\n",
       "      <td>Irish_setter</td>\n",
       "      <td>0.364729</td>\n",
       "      <td>True</td>\n",
       "      <td>...</td>\n",
       "      <td>True</td>\n",
       "      <td>Irish_terrier</td>\n",
       "      <td>0.107473</td>\n",
       "      <td>True</td>\n",
       "      <td>2017-06-21 19:36:23+00:00</td>\n",
       "      <td>RT @rachel2195: @dog_rates the boyfriend and h...</td>\n",
       "      <td>83</td>\n",
       "      <td>0</td>\n",
       "      <td>en</td>\n",
       "      <td>83</td>\n",
       "    </tr>\n",
       "    <tr>\n",
       "      <th>1671</th>\n",
       "      <td>667550904950915073</td>\n",
       "      <td>&lt;a href=\"http://twitter.com\" rel=\"nofollow\"&gt;Tw...</td>\n",
       "      <td>https://twitter.com/dogratingrating/status/667...</td>\n",
       "      <td>None</td>\n",
       "      <td>12/10</td>\n",
       "      <td>https://pbs.twimg.com/media/CUOb_gUUkAACXdS.jpg</td>\n",
       "      <td>1</td>\n",
       "      <td>web_site</td>\n",
       "      <td>0.999335</td>\n",
       "      <td>False</td>\n",
       "      <td>...</td>\n",
       "      <td>True</td>\n",
       "      <td>collie</td>\n",
       "      <td>0.000069</td>\n",
       "      <td>True</td>\n",
       "      <td>2015-11-20 03:51:52+00:00</td>\n",
       "      <td>RT @dogratingrating: Exceptional talent. Origi...</td>\n",
       "      <td>37</td>\n",
       "      <td>0</td>\n",
       "      <td>en</td>\n",
       "      <td>37</td>\n",
       "    </tr>\n",
       "  </tbody>\n",
       "</table>\n",
       "<p>1730 rows × 22 columns</p>\n",
       "</div>"
      ],
      "text/plain": [
       "                tweet_id                                           source_x  \\\n",
       "753   744234799360020481  <a href=\"http://twitter.com/download/iphone\" r...   \n",
       "290   822872901745569793  <a href=\"http://twitter.com/download/iphone\" r...   \n",
       "386   807106840509214720  <a href=\"http://twitter.com/download/iphone\" r...   \n",
       "54    879415818425184262  <a href=\"http://twitter.com/download/iphone\" r...   \n",
       "104   866450705531457537  <a href=\"http://twitter.com/download/iphone\" r...   \n",
       "...                  ...                                                ...   \n",
       "101   867072653475098625  <a href=\"http://twitter.com/download/iphone\" r...   \n",
       "1719  666447344410484738  <a href=\"http://twitter.com/download/iphone\" r...   \n",
       "1734  666102155909144576  <a href=\"http://twitter.com/download/iphone\" r...   \n",
       "61    877611172832227328  <a href=\"http://twitter.com/download/iphone\" r...   \n",
       "1671  667550904950915073  <a href=\"http://twitter.com\" rel=\"nofollow\">Tw...   \n",
       "\n",
       "                                          expanded_urls     name Rating  \\\n",
       "753   https://twitter.com/dog_rates/status/744234799...     None  13/10   \n",
       "290   https://twitter.com/dog_rates/status/822872901...     None  13/10   \n",
       "386   https://twitter.com/dog_rates/status/807106840...  Stephan  13/10   \n",
       "54    https://twitter.com/dog_rates/status/879415818...  Duddles  13/10   \n",
       "104   https://twitter.com/dog_rates/status/866450705...   Jamesy  13/10   \n",
       "...                                                 ...      ...    ...   \n",
       "101   https://twitter.com/rachaeleasler/status/86501...     None  13/10   \n",
       "1719  https://twitter.com/dog_rates/status/666447344...    Scout   9/10   \n",
       "1734  https://twitter.com/dog_rates/status/666102155...     None  11/10   \n",
       "61    https://twitter.com/rachel2195/status/87685077...     None  14/10   \n",
       "1671  https://twitter.com/dogratingrating/status/667...     None  12/10   \n",
       "\n",
       "                                                jpg_url  img_num  \\\n",
       "753   https://pbs.twimg.com/ext_tw_video_thumb/74423...        1   \n",
       "290     https://pbs.twimg.com/media/C2tugXLXgAArJO4.jpg        1   \n",
       "386   https://pbs.twimg.com/ext_tw_video_thumb/80710...        1   \n",
       "54    https://pbs.twimg.com/ext_tw_video_thumb/87941...        1   \n",
       "104     https://pbs.twimg.com/media/DAZAUfBXcAAG_Nn.jpg        2   \n",
       "...                                                 ...      ...   \n",
       "101     https://pbs.twimg.com/media/DAElHfmUMAEH9lB.jpg        1   \n",
       "1719    https://pbs.twimg.com/media/CT-yU5QWwAEjLX5.jpg        1   \n",
       "1734    https://pbs.twimg.com/media/CT54YGiWUAEZnoK.jpg        1   \n",
       "61      https://pbs.twimg.com/media/DCszHgmW0AAmIpT.jpg        1   \n",
       "1671    https://pbs.twimg.com/media/CUOb_gUUkAACXdS.jpg        1   \n",
       "\n",
       "                          p1   p1_conf  p1_dog  ... p2_dog  \\\n",
       "753       Labrador_retriever  0.825333    True  ...  False   \n",
       "290         Lakeland_terrier  0.196015    True  ...   True   \n",
       "386                Chihuahua  0.505370    True  ...   True   \n",
       "54          English_springer  0.383404    True  ...   True   \n",
       "104           French_bulldog  0.905334    True  ...   True   \n",
       "...                      ...       ...     ...  ...    ...   \n",
       "101         Blenheim_spaniel  0.352946    True  ...   True   \n",
       "1719  curly-coated_retriever  0.322084    True  ...   True   \n",
       "1734          English_setter  0.298617    True  ...   True   \n",
       "61              Irish_setter  0.364729    True  ...   True   \n",
       "1671                web_site  0.999335   False  ...   True   \n",
       "\n",
       "                      p3   p3_conf p3_dog                created_at  \\\n",
       "753              whippet  0.018442   True 2016-06-18 18:26:18+00:00   \n",
       "290        Irish_terrier  0.069126   True 2017-01-21 18:26:02+00:00   \n",
       "386          toy_terrier  0.077008   True 2016-12-09 06:17:20+00:00   \n",
       "54              Cardigan  0.110481   True 2017-06-26 19:07:24+00:00   \n",
       "104                  pug  0.001771   True 2017-05-22 00:28:40+00:00   \n",
       "...                  ...       ...    ...                       ...   \n",
       "101             Pekinese  0.112952   True 2017-05-23 17:40:04+00:00   \n",
       "1719  Labrador_retriever  0.166331   True 2015-11-17 02:46:43+00:00   \n",
       "1734              borzoi  0.133649   True 2015-11-16 03:55:04+00:00   \n",
       "61         Irish_terrier  0.107473   True 2017-06-21 19:36:23+00:00   \n",
       "1671              collie  0.000069   True 2015-11-20 03:51:52+00:00   \n",
       "\n",
       "                                              full_text retweet_count  \\\n",
       "753   Here's a doggo realizing you can stand in a po...         79515   \n",
       "290   Here's a super supportive puppo participating ...         48265   \n",
       "386   This is Stephan. He just wants to help. 13/10 ...         56625   \n",
       "54    This is Duddles. He did an attempt. 13/10 some...         45849   \n",
       "104   This is Jamesy. He gives a kiss to every other...         32883   \n",
       "...                                                 ...           ...   \n",
       "101   RT @rachaeleasler: these @dog_rates hats are 1...           135   \n",
       "1719  This is Scout. She is a black Downton Abbey. I...            23   \n",
       "1734  Oh my. Here you are seeing an Adobe Setter giv...            16   \n",
       "61    RT @rachel2195: @dog_rates the boyfriend and h...            83   \n",
       "1671  RT @dogratingrating: Exceptional talent. Origi...            37   \n",
       "\n",
       "     favorite_count  lang  Engagements  \n",
       "753          131075    en       210590  \n",
       "290          132810    en       181075  \n",
       "386          107015    en       163640  \n",
       "54           107956    en       153805  \n",
       "104          106827    en       139710  \n",
       "...             ...   ...          ...  \n",
       "101               0    en          135  \n",
       "1719            107    en          130  \n",
       "1734             81    en           97  \n",
       "61                0    en           83  \n",
       "1671              0    en           37  \n",
       "\n",
       "[1730 rows x 22 columns]"
      ]
     },
     "execution_count": 224,
     "metadata": {},
     "output_type": "execute_result"
    }
   ],
   "source": [
    "df_all.sort_values(by=['Engagements'],ascending=False)"
   ]
  },
  {
   "cell_type": "markdown",
   "id": "e2f6f3a1",
   "metadata": {},
   "source": [
    "### Which dog breed received the highest average rating"
   ]
  },
  {
   "cell_type": "code",
   "execution_count": 244,
   "id": "9d82f8c4",
   "metadata": {},
   "outputs": [],
   "source": [
    "dog_breed_rating=df_all.loc[:,['p1_dog','p1','Rating']]"
   ]
  },
  {
   "cell_type": "code",
   "execution_count": 245,
   "id": "02228e17",
   "metadata": {},
   "outputs": [],
   "source": [
    "dog_breed_rating = dog_breed_rating[dog_breed_rating['p1_dog'] == True]"
   ]
  },
  {
   "cell_type": "code",
   "execution_count": 246,
   "id": "94f68dc6",
   "metadata": {},
   "outputs": [
    {
     "data": {
      "text/plain": [
       "True    1513\n",
       "Name: p1_dog, dtype: int64"
      ]
     },
     "execution_count": 246,
     "metadata": {},
     "output_type": "execute_result"
    }
   ],
   "source": [
    "dog_breed_rating.p1_dog.value_counts()"
   ]
  },
  {
   "cell_type": "code",
   "execution_count": 240,
   "id": "7c02683d",
   "metadata": {},
   "outputs": [
    {
     "data": {
      "text/html": [
       "<div>\n",
       "<style scoped>\n",
       "    .dataframe tbody tr th:only-of-type {\n",
       "        vertical-align: middle;\n",
       "    }\n",
       "\n",
       "    .dataframe tbody tr th {\n",
       "        vertical-align: top;\n",
       "    }\n",
       "\n",
       "    .dataframe thead th {\n",
       "        text-align: right;\n",
       "    }\n",
       "</style>\n",
       "<table border=\"1\" class=\"dataframe\">\n",
       "  <thead>\n",
       "    <tr style=\"text-align: right;\">\n",
       "      <th></th>\n",
       "      <th>p1_dog</th>\n",
       "      <th>Rating</th>\n",
       "    </tr>\n",
       "    <tr>\n",
       "      <th>p1</th>\n",
       "      <th></th>\n",
       "      <th></th>\n",
       "    </tr>\n",
       "  </thead>\n",
       "  <tbody>\n",
       "    <tr>\n",
       "      <th>Afghan_hound</th>\n",
       "      <td>4</td>\n",
       "      <td>4</td>\n",
       "    </tr>\n",
       "    <tr>\n",
       "      <th>Airedale</th>\n",
       "      <td>12</td>\n",
       "      <td>12</td>\n",
       "    </tr>\n",
       "    <tr>\n",
       "      <th>American_Staffordshire_terrier</th>\n",
       "      <td>13</td>\n",
       "      <td>13</td>\n",
       "    </tr>\n",
       "    <tr>\n",
       "      <th>Appenzeller</th>\n",
       "      <td>2</td>\n",
       "      <td>2</td>\n",
       "    </tr>\n",
       "    <tr>\n",
       "      <th>Australian_terrier</th>\n",
       "      <td>2</td>\n",
       "      <td>2</td>\n",
       "    </tr>\n",
       "    <tr>\n",
       "      <th>...</th>\n",
       "      <td>...</td>\n",
       "      <td>...</td>\n",
       "    </tr>\n",
       "    <tr>\n",
       "      <th>toy_poodle</th>\n",
       "      <td>39</td>\n",
       "      <td>39</td>\n",
       "    </tr>\n",
       "    <tr>\n",
       "      <th>toy_terrier</th>\n",
       "      <td>2</td>\n",
       "      <td>2</td>\n",
       "    </tr>\n",
       "    <tr>\n",
       "      <th>vizsla</th>\n",
       "      <td>13</td>\n",
       "      <td>13</td>\n",
       "    </tr>\n",
       "    <tr>\n",
       "      <th>whippet</th>\n",
       "      <td>9</td>\n",
       "      <td>9</td>\n",
       "    </tr>\n",
       "    <tr>\n",
       "      <th>wire-haired_fox_terrier</th>\n",
       "      <td>2</td>\n",
       "      <td>2</td>\n",
       "    </tr>\n",
       "  </tbody>\n",
       "</table>\n",
       "<p>110 rows × 2 columns</p>\n",
       "</div>"
      ],
      "text/plain": [
       "                                p1_dog  Rating\n",
       "p1                                            \n",
       "Afghan_hound                         4       4\n",
       "Airedale                            12      12\n",
       "American_Staffordshire_terrier      13      13\n",
       "Appenzeller                          2       2\n",
       "Australian_terrier                   2       2\n",
       "...                                ...     ...\n",
       "toy_poodle                          39      39\n",
       "toy_terrier                          2       2\n",
       "vizsla                              13      13\n",
       "whippet                              9       9\n",
       "wire-haired_fox_terrier              2       2\n",
       "\n",
       "[110 rows x 2 columns]"
      ]
     },
     "execution_count": 240,
     "metadata": {},
     "output_type": "execute_result"
    }
   ],
   "source": [
    "dog_breed_rating.groupby('p1').count()"
   ]
  },
  {
   "cell_type": "code",
   "execution_count": 236,
   "id": "bc23671a",
   "metadata": {},
   "outputs": [
    {
     "data": {
      "text/html": [
       "<div>\n",
       "<style scoped>\n",
       "    .dataframe tbody tr th:only-of-type {\n",
       "        vertical-align: middle;\n",
       "    }\n",
       "\n",
       "    .dataframe tbody tr th {\n",
       "        vertical-align: top;\n",
       "    }\n",
       "\n",
       "    .dataframe thead th {\n",
       "        text-align: right;\n",
       "    }\n",
       "</style>\n",
       "<table border=\"1\" class=\"dataframe\">\n",
       "  <thead>\n",
       "    <tr style=\"text-align: right;\">\n",
       "      <th></th>\n",
       "      <th>p1_dog</th>\n",
       "      <th>p1</th>\n",
       "      <th>Rating</th>\n",
       "    </tr>\n",
       "  </thead>\n",
       "  <tbody>\n",
       "    <tr>\n",
       "      <th>0</th>\n",
       "      <td>True</td>\n",
       "      <td>Chihuahua</td>\n",
       "      <td>13</td>\n",
       "    </tr>\n",
       "    <tr>\n",
       "      <th>1</th>\n",
       "      <td>True</td>\n",
       "      <td>Chihuahua</td>\n",
       "      <td>12</td>\n",
       "    </tr>\n",
       "    <tr>\n",
       "      <th>3</th>\n",
       "      <td>True</td>\n",
       "      <td>basset</td>\n",
       "      <td>12</td>\n",
       "    </tr>\n",
       "    <tr>\n",
       "      <th>4</th>\n",
       "      <td>True</td>\n",
       "      <td>Chesapeake_Bay_retriever</td>\n",
       "      <td>13</td>\n",
       "    </tr>\n",
       "    <tr>\n",
       "      <th>5</th>\n",
       "      <td>True</td>\n",
       "      <td>Appenzeller</td>\n",
       "      <td>13</td>\n",
       "    </tr>\n",
       "  </tbody>\n",
       "</table>\n",
       "</div>"
      ],
      "text/plain": [
       "   p1_dog                        p1  Rating\n",
       "0    True                 Chihuahua      13\n",
       "1    True                 Chihuahua      12\n",
       "3    True                    basset      12\n",
       "4    True  Chesapeake_Bay_retriever      13\n",
       "5    True               Appenzeller      13"
      ]
     },
     "execution_count": 236,
     "metadata": {},
     "output_type": "execute_result"
    }
   ],
   "source": [
    "dog_breed_rating.head()"
   ]
  },
  {
   "cell_type": "code",
   "execution_count": 247,
   "id": "2be8c2d3",
   "metadata": {},
   "outputs": [],
   "source": [
    "dog_breed_rating['rating'] = dog_breed_rating.Rating.apply(lambda x: int(x.split('/')[0]))"
   ]
  },
  {
   "cell_type": "code",
   "execution_count": 251,
   "id": "f307c2bd",
   "metadata": {},
   "outputs": [
    {
     "name": "stdout",
     "output_type": "stream",
     "text": [
      "<class 'pandas.core.frame.DataFrame'>\n",
      "Int64Index: 1513 entries, 0 to 1749\n",
      "Data columns (total 2 columns):\n",
      " #   Column  Non-Null Count  Dtype \n",
      "---  ------  --------------  ----- \n",
      " 0   p1      1513 non-null   object\n",
      " 1   rating  1513 non-null   int64 \n",
      "dtypes: int64(1), object(1)\n",
      "memory usage: 35.5+ KB\n"
     ]
    }
   ],
   "source": [
    "dog_breed_rating.info()"
   ]
  },
  {
   "cell_type": "code",
   "execution_count": 248,
   "id": "4fd2989f",
   "metadata": {},
   "outputs": [],
   "source": [
    "dog_breed_rating.drop(columns=['p1_dog','Rating'],inplace=True)"
   ]
  },
  {
   "cell_type": "code",
   "execution_count": 255,
   "id": "22c2624e",
   "metadata": {},
   "outputs": [],
   "source": [
    "dog_breed_rating_mean = dog_breed_rating.groupby('p1')['rating'].agg('mean')"
   ]
  },
  {
   "cell_type": "code",
   "execution_count": 259,
   "id": "d585e824",
   "metadata": {},
   "outputs": [
    {
     "data": {
      "text/plain": [
       "p1\n",
       "Saluki                         12.500000\n",
       "Tibetan_mastiff                12.400000\n",
       "briard                         12.333333\n",
       "Border_terrier                 12.142857\n",
       "silky_terrier                  12.000000\n",
       "                                 ...    \n",
       "Welsh_springer_spaniel          9.000000\n",
       "Scotch_terrier                  9.000000\n",
       "Norwich_terrier                 9.000000\n",
       "soft-coated_wheaten_terrier     8.777778\n",
       "Japanese_spaniel                5.000000\n",
       "Name: rating, Length: 110, dtype: float64"
      ]
     },
     "execution_count": 259,
     "metadata": {},
     "output_type": "execute_result"
    }
   ],
   "source": [
    "dog_breed_rating_mean.sort_values(ascending=False)"
   ]
  },
  {
   "cell_type": "code",
   "execution_count": null,
   "id": "d102fa2d",
   "metadata": {},
   "outputs": [],
   "source": []
  },
  {
   "cell_type": "code",
   "execution_count": 256,
   "id": "ddbf95d9",
   "metadata": {},
   "outputs": [
    {
     "data": {
      "text/plain": [
       "p1\n",
       "Afghan_hound                      10.500000\n",
       "Airedale                           9.833333\n",
       "American_Staffordshire_terrier    11.000000\n",
       "Appenzeller                       11.000000\n",
       "Australian_terrier                11.500000\n",
       "Name: rating, dtype: float64"
      ]
     },
     "execution_count": 256,
     "metadata": {},
     "output_type": "execute_result"
    }
   ],
   "source": [
    "dog_breed_rating_mean.head()"
   ]
  },
  {
   "cell_type": "markdown",
   "id": "48d107b7",
   "metadata": {},
   "source": [
    "### Quality Issues\n",
    "\n",
    "There are  missing data in the in_reply_to_status_id column\n",
    "There are Missing data in the in_reply_to_user_id column\n",
    "There are Missing data in the retweeted_status_id column\n",
    "There are Missing data in the retweeted_status_timestamp column\n",
    "There are missing data in the retweeted_status_user_id colum\n",
    "Invalid data 'none' in the name  columns\n",
    "There is invalid data 'none' in the doggo column\n",
    "There is invalid data 'none' in the puppo column\n",
    "There are images that are not of dogs in the image-predictions.tsv file\n",
    "\n",
    "### Tidiness Issues\n",
    "<!-- The expanded_urls columns contain three items instead of one item each.\n",
    "The rating in the text column of twitter-archive-enhanced.csv is mixed with the tweet text.\n",
    "The link to the text is in the same column with the text -->\n",
    "The rating_numerator and rating_denominator are in separate columns\n",
    "The truncated column in the tweet.json file is not necessary since the whole column has the value of false."
   ]
  },
  {
   "cell_type": "code",
   "execution_count": null,
   "id": "d3332f2c",
   "metadata": {},
   "outputs": [],
   "source": []
  }
 ],
 "metadata": {
  "kernelspec": {
   "display_name": "first_env",
   "language": "python",
   "name": "first_env"
  },
  "language_info": {
   "codemirror_mode": {
    "name": "ipython",
    "version": 3
   },
   "file_extension": ".py",
   "mimetype": "text/x-python",
   "name": "python",
   "nbconvert_exporter": "python",
   "pygments_lexer": "ipython3",
   "version": "3.9.7"
  }
 },
 "nbformat": 4,
 "nbformat_minor": 5
}
